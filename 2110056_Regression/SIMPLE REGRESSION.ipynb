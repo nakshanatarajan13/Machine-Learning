{
 "cells": [
  {
   "cell_type": "markdown",
   "id": "3a726b05",
   "metadata": {},
   "source": [
    "# Importing Packages"
   ]
  },
  {
   "cell_type": "markdown",
   "id": "eb3a8e37",
   "metadata": {},
   "source": [
    "#### Basic-Packages"
   ]
  },
  {
   "cell_type": "code",
   "execution_count": 172,
   "id": "c746015f",
   "metadata": {},
   "outputs": [],
   "source": [
    "import numpy as np\n",
    "import pandas as pd\n",
    "import seaborn as sns\n",
    "import matplotlib.pyplot as plt"
   ]
  },
  {
   "cell_type": "markdown",
   "id": "23cb0c77",
   "metadata": {},
   "source": [
    "##### plt - alteration"
   ]
  },
  {
   "cell_type": "code",
   "execution_count": 173,
   "id": "c7c4be25",
   "metadata": {},
   "outputs": [],
   "source": [
    "plt.rcParams['font.size'] =14\n",
    "plt.rcParams['font.weight']= 'bold'\n",
    "plt.style.use('seaborn-whitegrid')"
   ]
  },
  {
   "cell_type": "markdown",
   "id": "39ab3bb1",
   "metadata": {},
   "source": [
    "##### warnings"
   ]
  },
  {
   "cell_type": "code",
   "execution_count": 174,
   "id": "9d39b0e6",
   "metadata": {},
   "outputs": [],
   "source": [
    "import warnings\n",
    "\n",
    "pd.set_option('display.max_columns', None)\n",
    "warnings.filterwarnings('ignore')"
   ]
  },
  {
   "cell_type": "markdown",
   "id": "634e4eda",
   "metadata": {},
   "source": [
    "# Loading DataSet"
   ]
  },
  {
   "cell_type": "code",
   "execution_count": 175,
   "id": "0d5beb01",
   "metadata": {},
   "outputs": [
    {
     "data": {
      "text/html": [
       "<div>\n",
       "<style scoped>\n",
       "    .dataframe tbody tr th:only-of-type {\n",
       "        vertical-align: middle;\n",
       "    }\n",
       "\n",
       "    .dataframe tbody tr th {\n",
       "        vertical-align: top;\n",
       "    }\n",
       "\n",
       "    .dataframe thead th {\n",
       "        text-align: right;\n",
       "    }\n",
       "</style>\n",
       "<table border=\"1\" class=\"dataframe\">\n",
       "  <thead>\n",
       "    <tr style=\"text-align: right;\">\n",
       "      <th></th>\n",
       "      <th>x</th>\n",
       "      <th>y</th>\n",
       "    </tr>\n",
       "  </thead>\n",
       "  <tbody>\n",
       "    <tr>\n",
       "      <th>0</th>\n",
       "      <td>17</td>\n",
       "      <td>94</td>\n",
       "    </tr>\n",
       "    <tr>\n",
       "      <th>1</th>\n",
       "      <td>13</td>\n",
       "      <td>73</td>\n",
       "    </tr>\n",
       "    <tr>\n",
       "      <th>2</th>\n",
       "      <td>12</td>\n",
       "      <td>59</td>\n",
       "    </tr>\n",
       "    <tr>\n",
       "      <th>3</th>\n",
       "      <td>15</td>\n",
       "      <td>80</td>\n",
       "    </tr>\n",
       "    <tr>\n",
       "      <th>4</th>\n",
       "      <td>16</td>\n",
       "      <td>93</td>\n",
       "    </tr>\n",
       "  </tbody>\n",
       "</table>\n",
       "</div>"
      ],
      "text/plain": [
       "    x   y\n",
       "0  17  94\n",
       "1  13  73\n",
       "2  12  59\n",
       "3  15  80\n",
       "4  16  93"
      ]
     },
     "execution_count": 175,
     "metadata": {},
     "output_type": "execute_result"
    }
   ],
   "source": [
    "data = pd.read_csv(\"DataSet/data1.csv\")\n",
    "data.head()"
   ]
  },
  {
   "cell_type": "markdown",
   "id": "374ad1ae",
   "metadata": {},
   "source": [
    "# Info About the DataFrame"
   ]
  },
  {
   "cell_type": "code",
   "execution_count": 176,
   "id": "17cd6270",
   "metadata": {},
   "outputs": [
    {
     "name": "stdout",
     "output_type": "stream",
     "text": [
      "<class 'pandas.core.frame.DataFrame'>\n",
      "RangeIndex: 120 entries, 0 to 119\n",
      "Data columns (total 2 columns):\n",
      " #   Column  Non-Null Count  Dtype\n",
      "---  ------  --------------  -----\n",
      " 0   x       120 non-null    int64\n",
      " 1   y       120 non-null    int64\n",
      "dtypes: int64(2)\n",
      "memory usage: 2.0 KB\n"
     ]
    }
   ],
   "source": [
    "data.info()"
   ]
  },
  {
   "cell_type": "code",
   "execution_count": 177,
   "id": "91d622a7",
   "metadata": {},
   "outputs": [
    {
     "name": "stdout",
     "output_type": "stream",
     "text": [
      "Records:120\n",
      "Features:2\n"
     ]
    }
   ],
   "source": [
    "print(f\"Records:{data.shape[0]}\\nFeatures:{data.shape[1]}\")"
   ]
  },
  {
   "cell_type": "markdown",
   "id": "7d997c89",
   "metadata": {},
   "source": [
    "# Data Analysis"
   ]
  },
  {
   "cell_type": "markdown",
   "id": "4eb4dcac",
   "metadata": {},
   "source": [
    "### Basic statistics"
   ]
  },
  {
   "cell_type": "code",
   "execution_count": 178,
   "id": "e2fc1e7a",
   "metadata": {},
   "outputs": [
    {
     "data": {
      "text/html": [
       "<style type=\"text/css\">\n",
       "#T_4efb9_row0_col0, #T_4efb9_row0_col1 {\n",
       "  background-color: #ffffff;\n",
       "  color: #000000;\n",
       "}\n",
       "#T_4efb9_row1_col0 {\n",
       "  background-color: #570000;\n",
       "  color: #f1f1f1;\n",
       "}\n",
       "#T_4efb9_row1_col1 {\n",
       "  background-color: #ffb200;\n",
       "  color: #000000;\n",
       "}\n",
       "#T_4efb9_row2_col0, #T_4efb9_row2_col1 {\n",
       "  background-color: #0b0000;\n",
       "  color: #f1f1f1;\n",
       "}\n",
       "#T_4efb9_row3_col0 {\n",
       "  background-color: #420000;\n",
       "  color: #f1f1f1;\n",
       "}\n",
       "#T_4efb9_row3_col1 {\n",
       "  background-color: #ff3200;\n",
       "  color: #f1f1f1;\n",
       "}\n",
       "#T_4efb9_row4_col0 {\n",
       "  background-color: #4c0000;\n",
       "  color: #f1f1f1;\n",
       "}\n",
       "#T_4efb9_row4_col1 {\n",
       "  background-color: #ff8800;\n",
       "  color: #f1f1f1;\n",
       "}\n",
       "#T_4efb9_row5_col0 {\n",
       "  background-color: #590000;\n",
       "  color: #f1f1f1;\n",
       "}\n",
       "#T_4efb9_row5_col1 {\n",
       "  background-color: #ffb000;\n",
       "  color: #000000;\n",
       "}\n",
       "#T_4efb9_row6_col0 {\n",
       "  background-color: #5f0000;\n",
       "  color: #f1f1f1;\n",
       "}\n",
       "#T_4efb9_row6_col1 {\n",
       "  background-color: #fff600;\n",
       "  color: #000000;\n",
       "}\n",
       "#T_4efb9_row7_col0 {\n",
       "  background-color: #690000;\n",
       "  color: #f1f1f1;\n",
       "}\n",
       "#T_4efb9_row7_col1 {\n",
       "  background-color: #ffff0f;\n",
       "  color: #000000;\n",
       "}\n",
       "</style>\n",
       "<table id=\"T_4efb9\">\n",
       "  <thead>\n",
       "    <tr>\n",
       "      <th class=\"blank level0\" >&nbsp;</th>\n",
       "      <th id=\"T_4efb9_level0_col0\" class=\"col_heading level0 col0\" >x</th>\n",
       "      <th id=\"T_4efb9_level0_col1\" class=\"col_heading level0 col1\" >y</th>\n",
       "    </tr>\n",
       "  </thead>\n",
       "  <tbody>\n",
       "    <tr>\n",
       "      <th id=\"T_4efb9_level0_row0\" class=\"row_heading level0 row0\" >count</th>\n",
       "      <td id=\"T_4efb9_row0_col0\" class=\"data row0 col0\" >120.000000</td>\n",
       "      <td id=\"T_4efb9_row0_col1\" class=\"data row0 col1\" >120.000000</td>\n",
       "    </tr>\n",
       "    <tr>\n",
       "      <th id=\"T_4efb9_level0_row1\" class=\"row_heading level0 row1\" >mean</th>\n",
       "      <td id=\"T_4efb9_row1_col0\" class=\"data row1 col0\" >15.600000</td>\n",
       "      <td id=\"T_4efb9_row1_col1\" class=\"data row1 col1\" >79.700000</td>\n",
       "    </tr>\n",
       "    <tr>\n",
       "      <th id=\"T_4efb9_level0_row2\" class=\"row_heading level0 row2\" >std</th>\n",
       "      <td id=\"T_4efb9_row2_col0\" class=\"data row2 col0\" >2.067760</td>\n",
       "      <td id=\"T_4efb9_row2_col1\" class=\"data row2 col1\" >11.028306</td>\n",
       "    </tr>\n",
       "    <tr>\n",
       "      <th id=\"T_4efb9_level0_row3\" class=\"row_heading level0 row3\" >min</th>\n",
       "      <td id=\"T_4efb9_row3_col0\" class=\"data row3 col0\" >12.000000</td>\n",
       "      <td id=\"T_4efb9_row3_col1\" class=\"data row3 col1\" >59.000000</td>\n",
       "    </tr>\n",
       "    <tr>\n",
       "      <th id=\"T_4efb9_level0_row4\" class=\"row_heading level0 row4\" >25%</th>\n",
       "      <td id=\"T_4efb9_row4_col0\" class=\"data row4 col0\" >14.000000</td>\n",
       "      <td id=\"T_4efb9_row4_col1\" class=\"data row4 col1\" >73.000000</td>\n",
       "    </tr>\n",
       "    <tr>\n",
       "      <th id=\"T_4efb9_level0_row5\" class=\"row_heading level0 row5\" >50%</th>\n",
       "      <td id=\"T_4efb9_row5_col0\" class=\"data row5 col0\" >16.000000</td>\n",
       "      <td id=\"T_4efb9_row5_col1\" class=\"data row5 col1\" >79.500000</td>\n",
       "    </tr>\n",
       "    <tr>\n",
       "      <th id=\"T_4efb9_level0_row6\" class=\"row_heading level0 row6\" >75%</th>\n",
       "      <td id=\"T_4efb9_row6_col0\" class=\"data row6 col0\" >17.000000</td>\n",
       "      <td id=\"T_4efb9_row6_col1\" class=\"data row6 col1\" >91.000000</td>\n",
       "    </tr>\n",
       "    <tr>\n",
       "      <th id=\"T_4efb9_level0_row7\" class=\"row_heading level0 row7\" >max</th>\n",
       "      <td id=\"T_4efb9_row7_col0\" class=\"data row7 col0\" >19.000000</td>\n",
       "      <td id=\"T_4efb9_row7_col1\" class=\"data row7 col1\" >94.000000</td>\n",
       "    </tr>\n",
       "  </tbody>\n",
       "</table>\n"
      ],
      "text/plain": [
       "<pandas.io.formats.style.Styler at 0x2299d41d040>"
      ]
     },
     "execution_count": 178,
     "metadata": {},
     "output_type": "execute_result"
    }
   ],
   "source": [
    "data.describe().style.background_gradient(cmap='hot')"
   ]
  },
  {
   "cell_type": "markdown",
   "id": "22d2731b",
   "metadata": {},
   "source": [
    "### Corelation"
   ]
  },
  {
   "cell_type": "code",
   "execution_count": 179,
   "id": "9fb92094",
   "metadata": {},
   "outputs": [
    {
     "data": {
      "text/plain": [
       "<AxesSubplot:>"
      ]
     },
     "execution_count": 179,
     "metadata": {},
     "output_type": "execute_result"
    },
    {
     "data": {
      "image/png": "[encoded data removed]",
      "text/plain": [
       "<Figure size 432x288 with 2 Axes>"
      ]
     },
     "metadata": {},
     "output_type": "display_data"
    }
   ],
   "source": [
    "sns.heatmap(data.corr(),annot=True,linewidths=0.2,cmap='coolwarm')"
   ]
  },
  {
   "cell_type": "markdown",
   "id": "49d84352",
   "metadata": {},
   "source": [
    "### Distribution of Features"
   ]
  },
  {
   "cell_type": "code",
   "execution_count": 180,
   "id": "02178d9e",
   "metadata": {},
   "outputs": [
    {
     "data": {
      "text/plain": [
       "Text(0.5, 1.0, 'Distribution of y variable')"
      ]
     },
     "execution_count": 180,
     "metadata": {},
     "output_type": "execute_result"
    },
    {
     "data": {
      "image/png": "[encoded data removed]",
      "text/plain": [
       "<Figure size 1440x360 with 2 Axes>"
      ]
     },
     "metadata": {},
     "output_type": "display_data"
    }
   ],
   "source": [
    "fig,(ax1,ax2) = plt.subplots(1,2,figsize=(20,5))\n",
    "sns.distplot(data['x'],color='b',ax=ax1)\n",
    "ax1.set_title(\"Distribution of X variable\")\n",
    "sns.distplot(data['y'],color='r',ax=ax2)\n",
    "ax2.set_title(\"Distribution of y variable\")"
   ]
  },
  {
   "cell_type": "code",
   "execution_count": 181,
   "id": "d895407b",
   "metadata": {},
   "outputs": [],
   "source": [
    "x = data['x']\n",
    "y = data['y']"
   ]
  },
  {
   "cell_type": "markdown",
   "id": "5a12db0a",
   "metadata": {},
   "source": [
    "# Simple Linear Regression\n",
    "### y = m * x + c\n",
    "- m = slope\n",
    "- c = intercept"
   ]
  },
  {
   "cell_type": "markdown",
   "id": "252055b5",
   "metadata": {},
   "source": [
    "# Train Test Split"
   ]
  },
  {
   "cell_type": "code",
   "execution_count": 182,
   "id": "d720a2db",
   "metadata": {},
   "outputs": [],
   "source": [
    "shuffle_data = data.sample(frac=1)\n",
    "train_size = int(0.7 * len(data))\n",
    "train_set = shuffle_data[:train_size]\n",
    "test_set = shuffle_data[train_size:]"
   ]
  },
  {
   "cell_type": "code",
   "execution_count": 183,
   "id": "58df496e",
   "metadata": {},
   "outputs": [
    {
     "name": "stdout",
     "output_type": "stream",
     "text": [
      "Shape of Training Set : (84, 2)\n",
      "Shape of Testing Set : (36, 2)\n"
     ]
    }
   ],
   "source": [
    "print(f\"Shape of Training Set : {train_set.shape}\\nShape of Testing Set : {test_set.shape}\")"
   ]
  },
  {
   "cell_type": "code",
   "execution_count": 184,
   "id": "d36a7e41",
   "metadata": {},
   "outputs": [],
   "source": [
    "x_train = train_set['x']\n",
    "x_test = test_set['x']\n",
    "y_train = train_set['y']\n",
    "y_test = test_set['y']"
   ]
  },
  {
   "cell_type": "markdown",
   "id": "89a31c97",
   "metadata": {},
   "source": [
    "# Simple Linear Model"
   ]
  },
  {
   "cell_type": "code",
   "execution_count": 185,
   "id": "2847e553",
   "metadata": {},
   "outputs": [],
   "source": [
    "def simple_linear_regression(input_feature,output):\n",
    "    Xi = input_feature\n",
    "    Yi = output\n",
    "    N = len(Xi)\n",
    "    \n",
    "    Yi_mean = Yi.mean()\n",
    "    Xi_mean = Xi.mean()\n",
    "    \n",
    "    S_YiXi = (Yi*Xi).sum()\n",
    "    Yi_Xi_ByN = (Yi.sum() * Xi.sum()) / N\n",
    "    \n",
    "    S_XiXi = (Xi*Xi).sum()\n",
    "    XiXi_ByN = (Xi.sum() * Xi.sum()) / N\n",
    "    \n",
    "    slope = (S_YiXi - Yi_Xi_ByN) / (S_XiXi - XiXi_ByN)\n",
    "    \n",
    "    intercept = Yi_mean - slope * Xi_mean\n",
    "    \n",
    "    return (intercept,slope)"
   ]
  },
  {
   "cell_type": "markdown",
   "id": "4a69407d",
   "metadata": {},
   "source": [
    "### Finding Slope and Intercept for Training Data"
   ]
  },
  {
   "cell_type": "code",
   "execution_count": 186,
   "id": "64718a4a",
   "metadata": {},
   "outputs": [
    {
     "name": "stdout",
     "output_type": "stream",
     "text": [
      "Intercept 26.80996523754328\n",
      "Slope 3.3568945538818187\n"
     ]
    }
   ],
   "source": [
    "train_intercept , train_slope = simple_linear_regression(x_train,y_train)\n",
    "\n",
    "print (\"Intercept\",train_intercept)\n",
    "print (\"Slope\",train_slope)"
   ]
  },
  {
   "cell_type": "markdown",
   "id": "71a3e042",
   "metadata": {},
   "source": [
    "### Equation of the best fit"
   ]
  },
  {
   "cell_type": "code",
   "execution_count": 187,
   "id": "7ece2a02",
   "metadata": {},
   "outputs": [
    {
     "name": "stdout",
     "output_type": "stream",
     "text": [
      "Y = 26.80996523754328 *X + 3.3568945538818187\n"
     ]
    }
   ],
   "source": [
    "print (\"Y =\",train_intercept,\"*X +\",train_slope)"
   ]
  },
  {
   "cell_type": "markdown",
   "id": "1083929b",
   "metadata": {},
   "source": [
    "### Plotting Regression Line in the Training Data"
   ]
  },
  {
   "cell_type": "code",
   "execution_count": 188,
   "id": "3f1d6a42",
   "metadata": {},
   "outputs": [
    {
     "data": {
      "text/plain": [
       "Text(0, 0.5, 'Y')"
      ]
     },
     "execution_count": 188,
     "metadata": {},
     "output_type": "execute_result"
    },
    {
     "data": {
      "image/png": "[encoded data removed]",
      "text/plain": [
       "<Figure size 432x288 with 1 Axes>"
      ]
     },
     "metadata": {},
     "output_type": "display_data"
    }
   ],
   "source": [
    "plt.scatter(x_train,y_train,color='orange')\n",
    "plt.plot(x_train,train_slope*x_train+train_intercept,'r')\n",
    "plt.xlabel(\"X\")\n",
    "plt.ylabel(\"Y\")"
   ]
  },
  {
   "cell_type": "markdown",
   "id": "812bde31",
   "metadata": {},
   "source": [
    "# Model Prediction"
   ]
  },
  {
   "cell_type": "code",
   "execution_count": 189,
   "id": "ec6a0833",
   "metadata": {},
   "outputs": [],
   "source": [
    "def get_regression_predictions(input_features,intercept,slope):\n",
    "    predicted_values = input_features*slope + intercept\n",
    "    \n",
    "    return predicted_values"
   ]
  },
  {
   "cell_type": "markdown",
   "id": "5f37cdc1",
   "metadata": {},
   "source": [
    "### Predicting for a random test point"
   ]
  },
  {
   "cell_type": "code",
   "execution_count": 190,
   "id": "5377b295",
   "metadata": {},
   "outputs": [
    {
     "name": "stdout",
     "output_type": "stream",
     "text": [
      "Estimated Value of Y : 93.94785631517965\n"
     ]
    }
   ],
   "source": [
    "my_test_point = 20\n",
    "\n",
    "estimatd_point = get_regression_predictions(my_test_point,train_intercept,train_slope)\n",
    "print (\"Estimated Value of Y :\",estimatd_point)"
   ]
  },
  {
   "cell_type": "markdown",
   "id": "61050163",
   "metadata": {},
   "source": [
    "### Prediction - Test Data Points"
   ]
  },
  {
   "cell_type": "code",
   "execution_count": 191,
   "id": "4f6b9d47",
   "metadata": {},
   "outputs": [
    {
     "data": {
      "text/plain": [
       "83    77.163384\n",
       "45    73.806489\n",
       "95    73.806489\n",
       "67    80.520278\n",
       "38    87.234067\n",
       "Name: x, dtype: float64"
      ]
     },
     "execution_count": 191,
     "metadata": {},
     "output_type": "execute_result"
    }
   ],
   "source": [
    "y_pred = get_regression_predictions(x_test,train_intercept,train_slope)\n",
    "y_pred[:5]"
   ]
  },
  {
   "cell_type": "code",
   "execution_count": 192,
   "id": "695ea48f",
   "metadata": {},
   "outputs": [
    {
     "data": {
      "text/plain": [
       "83    80\n",
       "45    85\n",
       "95    85\n",
       "67    79\n",
       "38    77\n",
       "Name: y, dtype: int64"
      ]
     },
     "execution_count": 192,
     "metadata": {},
     "output_type": "execute_result"
    }
   ],
   "source": [
    "y_test[:5]"
   ]
  },
  {
   "cell_type": "markdown",
   "id": "30f0974f",
   "metadata": {},
   "source": [
    "# Residual Sum of Squares"
   ]
  },
  {
   "cell_type": "code",
   "execution_count": 193,
   "id": "56f6a3ba",
   "metadata": {},
   "outputs": [],
   "source": [
    "def residual_sum_of_squares(y_test,y_pred):\n",
    "    residual = y_test - y_pred\n",
    "    \n",
    "    RSS = (residual*residual).sum()\n",
    "    \n",
    "    return (RSS)"
   ]
  },
  {
   "cell_type": "code",
   "execution_count": 194,
   "id": "85494e8f",
   "metadata": {},
   "outputs": [
    {
     "data": {
      "text/plain": [
       "3196.9462585043193"
      ]
     },
     "execution_count": 194,
     "metadata": {},
     "output_type": "execute_result"
    }
   ],
   "source": [
    "#RSS\n",
    "residual_sum_of_squares(y_test,y_pred)"
   ]
  },
  {
   "cell_type": "markdown",
   "id": "3f752940",
   "metadata": {},
   "source": [
    "# R - Squared"
   ]
  },
  {
   "cell_type": "code",
   "execution_count": 195,
   "id": "e011a3d4",
   "metadata": {},
   "outputs": [],
   "source": [
    "def R_Squared(y_test,y_pred):\n",
    "    \n",
    "    residual = y_test - y_pred\n",
    "    \n",
    "    RES = (residual*residual).sum()\n",
    "    \n",
    "    REST = y_test - y_test.mean()\n",
    "    \n",
    "    TOT = (REST*REST).sum()\n",
    "    \n",
    "    return (1 - RES/TOT)"
   ]
  },
  {
   "cell_type": "code",
   "execution_count": 196,
   "id": "c413864d",
   "metadata": {},
   "outputs": [
    {
     "data": {
      "text/plain": [
       "0.06345562376997349"
      ]
     },
     "execution_count": 196,
     "metadata": {},
     "output_type": "execute_result"
    }
   ],
   "source": [
    "R_Squared(y_test,y_pred)"
   ]
  },
  {
   "cell_type": "code",
   "execution_count": 197,
   "id": "3e69f76a",
   "metadata": {},
   "outputs": [],
   "source": [
    "def Mean_Absolute_Error(y_test,y_pred):\n",
    "    Yi = y_test\n",
    "    \n",
    "    var = (Yi - y_pred).abs().sum()\n",
    "    \n",
    "    MAE = var/len(Yi)\n",
    "    \n",
    "    return MAE"
   ]
  },
  {
   "cell_type": "code",
   "execution_count": 198,
   "id": "4a475d96",
   "metadata": {},
   "outputs": [
    {
     "data": {
      "text/plain": [
       "7.972190034762461"
      ]
     },
     "execution_count": 198,
     "metadata": {},
     "output_type": "execute_result"
    }
   ],
   "source": [
    "Mean_Absolute_Error(y_test,y_pred)"
   ]
  },
  {
   "cell_type": "code",
   "execution_count": 199,
   "id": "955d1263",
   "metadata": {},
   "outputs": [],
   "source": [
    "def Mean_Absolute_Percentage_Error(y_test,y_pred):    \n",
    "    Yi = y_test\n",
    "    \n",
    "    var = ((Yi - y_pred)/Yi).abs().sum()\n",
    "    \n",
    "    MAPE = var/len(Yi) *100\n",
    "    \n",
    "    return MAPE"
   ]
  },
  {
   "cell_type": "code",
   "execution_count": 200,
   "id": "0ec1dcc2",
   "metadata": {},
   "outputs": [
    {
     "data": {
      "text/plain": [
       "10.055034140141766"
      ]
     },
     "execution_count": 200,
     "metadata": {},
     "output_type": "execute_result"
    }
   ],
   "source": [
    "Mean_Absolute_Percentage_Error(y_test,y_pred)"
   ]
  },
  {
   "cell_type": "markdown",
   "id": "108b5503",
   "metadata": {},
   "source": [
    "# Model Evaluation"
   ]
  },
  {
   "cell_type": "code",
   "execution_count": 209,
   "id": "8f27ba2c",
   "metadata": {},
   "outputs": [
    {
     "data": {
      "text/html": [
       "<div>\n",
       "<style scoped>\n",
       "    .dataframe tbody tr th:only-of-type {\n",
       "        vertical-align: middle;\n",
       "    }\n",
       "\n",
       "    .dataframe tbody tr th {\n",
       "        vertical-align: top;\n",
       "    }\n",
       "\n",
       "    .dataframe thead th {\n",
       "        text-align: right;\n",
       "    }\n",
       "</style>\n",
       "<table border=\"1\" class=\"dataframe\">\n",
       "  <thead>\n",
       "    <tr style=\"text-align: right;\">\n",
       "      <th></th>\n",
       "      <th>Mean_Absolute_Percentage_Error</th>\n",
       "      <th>Mean_Absolute_Error</th>\n",
       "      <th>R_Squared</th>\n",
       "      <th>residual_sum_of_squares</th>\n",
       "    </tr>\n",
       "  </thead>\n",
       "  <tbody>\n",
       "    <tr>\n",
       "      <th>Values</th>\n",
       "      <td>10.055034</td>\n",
       "      <td>7.97219</td>\n",
       "      <td>0.063456</td>\n",
       "      <td>3196.946259</td>\n",
       "    </tr>\n",
       "  </tbody>\n",
       "</table>\n",
       "</div>"
      ],
      "text/plain": [
       "        Mean_Absolute_Percentage_Error  Mean_Absolute_Error  R_Squared  \\\n",
       "Values                       10.055034              7.97219   0.063456   \n",
       "\n",
       "        residual_sum_of_squares  \n",
       "Values              3196.946259  "
      ]
     },
     "execution_count": 209,
     "metadata": {},
     "output_type": "execute_result"
    }
   ],
   "source": [
    "m_per_dict = {'Mean_Absolute_Percentage_Error':Mean_Absolute_Percentage_Error(y_test,y_pred),\"Mean_Absolute_Error\":Mean_Absolute_Error(y_test,y_pred),\"R_Squared\":R_Squared(y_test,y_pred),\"residual_sum_of_squares\":residual_sum_of_squares(y_test,y_pred)}\n",
    "model_performance = pd.DataFrame(m_per_dict,index=['Values'])\n",
    "model_performance"
   ]
  },
  {
   "cell_type": "markdown",
   "id": "2dfdc18e",
   "metadata": {},
   "source": [
    "### Line of Best Fit"
   ]
  },
  {
   "cell_type": "code",
   "execution_count": 224,
   "id": "15681a63",
   "metadata": {},
   "outputs": [
    {
     "data": {
      "text/plain": [
       "('Y =', 26.80996523754328, '*X +', 3.3568945538818187)"
      ]
     },
     "execution_count": 224,
     "metadata": {},
     "output_type": "execute_result"
    }
   ],
   "source": [
    "LOBF = \"Y =\",train_intercept,\"*X +\",train_slope\n",
    "LOBF"
   ]
  },
  {
   "cell_type": "markdown",
   "id": "7b75b700",
   "metadata": {},
   "source": [
    "# Sklearn"
   ]
  },
  {
   "cell_type": "markdown",
   "id": "b80e5014",
   "metadata": {},
   "source": [
    "##### Importing Packages"
   ]
  },
  {
   "cell_type": "code",
   "execution_count": 211,
   "id": "80282549",
   "metadata": {},
   "outputs": [],
   "source": [
    "from sklearn.metrics import mean_absolute_percentage_error,r2_score,mean_absolute_error\n",
    "from sklearn.linear_model import LinearRegression"
   ]
  },
  {
   "cell_type": "markdown",
   "id": "6dc180c5",
   "metadata": {},
   "source": [
    "##### Spliting and Model Building"
   ]
  },
  {
   "cell_type": "code",
   "execution_count": 215,
   "id": "e30bca4a",
   "metadata": {},
   "outputs": [],
   "source": [
    "x_train= x_train.reshape(-1, 1)\n",
    "x_test = x_test.values.reshape(-1, 1)\n",
    "LR = LinearRegression()\n",
    "LR.fit(x_train,y_train)\n",
    "y_pred_sk = LR.predict(x_test)"
   ]
  },
  {
   "cell_type": "code",
   "execution_count": 216,
   "id": "005c3946",
   "metadata": {},
   "outputs": [
    {
     "data": {
      "text/plain": [
       "array([77.16338355, 73.80648899, 73.80648899, 80.5202781 , 87.23406721])"
      ]
     },
     "execution_count": 216,
     "metadata": {},
     "output_type": "execute_result"
    }
   ],
   "source": [
    "y_pred_sk[:5]"
   ]
  },
  {
   "cell_type": "markdown",
   "id": "7c629886",
   "metadata": {},
   "source": [
    "### Model Performance Evaluation"
   ]
  },
  {
   "cell_type": "code",
   "execution_count": 217,
   "id": "6c556c17",
   "metadata": {},
   "outputs": [
    {
     "data": {
      "text/html": [
       "<div>\n",
       "<style scoped>\n",
       "    .dataframe tbody tr th:only-of-type {\n",
       "        vertical-align: middle;\n",
       "    }\n",
       "\n",
       "    .dataframe tbody tr th {\n",
       "        vertical-align: top;\n",
       "    }\n",
       "\n",
       "    .dataframe thead th {\n",
       "        text-align: right;\n",
       "    }\n",
       "</style>\n",
       "<table border=\"1\" class=\"dataframe\">\n",
       "  <thead>\n",
       "    <tr style=\"text-align: right;\">\n",
       "      <th></th>\n",
       "      <th>Mean_Absolute_Percentage_Error</th>\n",
       "      <th>Mean_Absolute_Error</th>\n",
       "      <th>R_Squared</th>\n",
       "      <th>residual_sum_of_squares</th>\n",
       "    </tr>\n",
       "  </thead>\n",
       "  <tbody>\n",
       "    <tr>\n",
       "      <th>Values</th>\n",
       "      <td>10.055034</td>\n",
       "      <td>7.97219</td>\n",
       "      <td>0.063456</td>\n",
       "      <td>3196.946259</td>\n",
       "    </tr>\n",
       "  </tbody>\n",
       "</table>\n",
       "</div>"
      ],
      "text/plain": [
       "        Mean_Absolute_Percentage_Error  Mean_Absolute_Error  R_Squared  \\\n",
       "Values                       10.055034              7.97219   0.063456   \n",
       "\n",
       "        residual_sum_of_squares  \n",
       "Values              3196.946259  "
      ]
     },
     "execution_count": 217,
     "metadata": {},
     "output_type": "execute_result"
    }
   ],
   "source": [
    "m_per_dict_sk = {'Mean_Absolute_Percentage_Error':mean_absolute_percentage_error(y_test,y_pred_sk)*100,\"Mean_Absolute_Error\":mean_absolute_error(y_test,y_pred_sk),\"R_Squared\":r2_score(y_test,y_pred_sk),\"residual_sum_of_squares\":residual_sum_of_squares(y_test,y_pred_sk)}\n",
    "model_performance_sk = pd.DataFrame(m_per_dict_sk,index=['Values'])\n",
    "model_performance_sk"
   ]
  },
  {
   "cell_type": "markdown",
   "id": "be80151f",
   "metadata": {},
   "source": [
    "### Line Of Best Fit using Sklearn"
   ]
  },
  {
   "cell_type": "code",
   "execution_count": 223,
   "id": "3037757f",
   "metadata": {},
   "outputs": [
    {
     "data": {
      "text/plain": [
       "('Y =', 26.80996523754348, '*X +', array([3.35689455]))"
      ]
     },
     "execution_count": 223,
     "metadata": {},
     "output_type": "execute_result"
    }
   ],
   "source": [
    "LOBF_sk = \"Y =\",LR.intercept_,\"*X +\",LR.coef_\n",
    "LOBF_sk"
   ]
  },
  {
   "cell_type": "markdown",
   "id": "c10d29f7",
   "metadata": {},
   "source": [
    "### Visualization of Best Fitted Line"
   ]
  },
  {
   "cell_type": "code",
   "execution_count": 232,
   "id": "525bcf47",
   "metadata": {},
   "outputs": [
    {
     "data": {
      "text/plain": [
       "Text(0, 0.5, 'Y')"
      ]
     },
     "execution_count": 232,
     "metadata": {},
     "output_type": "execute_result"
    },
    {
     "data": {
      "image/png": "[encoded data removed]",
      "text/plain": [
       "<Figure size 432x288 with 1 Axes>"
      ]
     },
     "metadata": {},
     "output_type": "display_data"
    }
   ],
   "source": [
    "plt.scatter(x_train,y_train,color='black')\n",
    "plt.plot(x_test,y_pred_sk,'r')\n",
    "plt.xlabel(\"X\")\n",
    "plt.ylabel(\"Y\")"
   ]
  },
  {
   "cell_type": "code",
   "execution_count": 233,
   "id": "08fb7654",
   "metadata": {},
   "outputs": [
    {
     "ename": "SyntaxError",
     "evalue": "invalid syntax (249407438.py, line 1)",
     "output_type": "error",
     "traceback": [
      "\u001b[1;36m  Input \u001b[1;32mIn [233]\u001b[1;36m\u001b[0m\n\u001b[1;33m    jupyter nbconvert --to html Muthu_Palaniappan_M_EX_1_Simple_Regression_Scratch.ipynb\u001b[0m\n\u001b[1;37m            ^\u001b[0m\n\u001b[1;31mSyntaxError\u001b[0m\u001b[1;31m:\u001b[0m invalid syntax\n"
     ]
    }
   ],
   "source": [
    "jupyter nbconvert --to html Muthu_Palaniappan_M_EX_1_Simple_Regression_Scratch.ipynb  "
   ]
  },
  {
   "cell_type": "code",
   "execution_count": null,
   "id": "146b201f",
   "metadata": {},
   "outputs": [],
   "source": []
  }
 ],
 "metadata": {
  "kernelspec": {
   "display_name": "Python 3 (ipykernel)",
   "language": "python",
   "name": "python3"
  },
  "language_info": {
   "codemirror_mode": {
    "name": "ipython",
    "version": 3
   },
   "file_extension": ".py",
   "mimetype": "text/x-python",
   "name": "python",
   "nbconvert_exporter": "python",
   "pygments_lexer": "ipython3",
   "version": "3.9.7"
  }
 },
 "nbformat": 4,
 "nbformat_minor": 5
}
