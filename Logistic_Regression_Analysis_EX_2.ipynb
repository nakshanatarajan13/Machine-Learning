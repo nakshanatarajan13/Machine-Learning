{
 "cells": [
  {
   "cell_type": "markdown",
   "id": "9622e575",
   "metadata": {},
   "source": [
    "# Importing Packages"
   ]
  },
  {
   "cell_type": "code",
   "execution_count": 872,
   "id": "cdd4b160",
   "metadata": {},
   "outputs": [],
   "source": [
    "import numpy as np\n",
    "import pandas as pd\n",
    "import seaborn as sns\n",
    "import matplotlib.pyplot as plt\n",
    "import warnings\n",
    "warnings.filterwarnings('ignore')"
   ]
  },
  {
   "cell_type": "markdown",
   "id": "0d4aadfd",
   "metadata": {},
   "source": [
    "# Loading the Dataset"
   ]
  },
  {
   "cell_type": "code",
   "execution_count": 873,
   "id": "9f67af82",
   "metadata": {},
   "outputs": [
    {
     "data": {
      "text/html": [
       "<div>\n",
       "<style scoped>\n",
       "    .dataframe tbody tr th:only-of-type {\n",
       "        vertical-align: middle;\n",
       "    }\n",
       "\n",
       "    .dataframe tbody tr th {\n",
       "        vertical-align: top;\n",
       "    }\n",
       "\n",
       "    .dataframe thead th {\n",
       "        text-align: right;\n",
       "    }\n",
       "</style>\n",
       "<table border=\"1\" class=\"dataframe\">\n",
       "  <thead>\n",
       "    <tr style=\"text-align: right;\">\n",
       "      <th></th>\n",
       "      <th>employee_id</th>\n",
       "      <th>department</th>\n",
       "      <th>region</th>\n",
       "      <th>education</th>\n",
       "      <th>gender</th>\n",
       "      <th>recruitment_channel</th>\n",
       "      <th>no_of_trainings</th>\n",
       "      <th>age</th>\n",
       "      <th>previous_year_rating</th>\n",
       "      <th>length_of_service</th>\n",
       "      <th>KPIs_met &gt;80%</th>\n",
       "      <th>awards_won?</th>\n",
       "      <th>avg_training_score</th>\n",
       "      <th>is_promoted</th>\n",
       "    </tr>\n",
       "  </thead>\n",
       "  <tbody>\n",
       "    <tr>\n",
       "      <th>0</th>\n",
       "      <td>65438</td>\n",
       "      <td>Sales &amp; Marketing</td>\n",
       "      <td>region_7</td>\n",
       "      <td>Master's &amp; above</td>\n",
       "      <td>f</td>\n",
       "      <td>sourcing</td>\n",
       "      <td>1</td>\n",
       "      <td>35</td>\n",
       "      <td>5.0</td>\n",
       "      <td>8</td>\n",
       "      <td>1</td>\n",
       "      <td>0</td>\n",
       "      <td>49</td>\n",
       "      <td>0</td>\n",
       "    </tr>\n",
       "    <tr>\n",
       "      <th>1</th>\n",
       "      <td>65141</td>\n",
       "      <td>Operations</td>\n",
       "      <td>region_22</td>\n",
       "      <td>Bachelor's</td>\n",
       "      <td>m</td>\n",
       "      <td>other</td>\n",
       "      <td>1</td>\n",
       "      <td>30</td>\n",
       "      <td>5.0</td>\n",
       "      <td>4</td>\n",
       "      <td>0</td>\n",
       "      <td>0</td>\n",
       "      <td>60</td>\n",
       "      <td>0</td>\n",
       "    </tr>\n",
       "    <tr>\n",
       "      <th>2</th>\n",
       "      <td>7513</td>\n",
       "      <td>Sales &amp; Marketing</td>\n",
       "      <td>region_19</td>\n",
       "      <td>Bachelor's</td>\n",
       "      <td>m</td>\n",
       "      <td>sourcing</td>\n",
       "      <td>1</td>\n",
       "      <td>34</td>\n",
       "      <td>3.0</td>\n",
       "      <td>7</td>\n",
       "      <td>0</td>\n",
       "      <td>0</td>\n",
       "      <td>50</td>\n",
       "      <td>0</td>\n",
       "    </tr>\n",
       "    <tr>\n",
       "      <th>3</th>\n",
       "      <td>2542</td>\n",
       "      <td>Sales &amp; Marketing</td>\n",
       "      <td>region_23</td>\n",
       "      <td>Bachelor's</td>\n",
       "      <td>m</td>\n",
       "      <td>other</td>\n",
       "      <td>2</td>\n",
       "      <td>39</td>\n",
       "      <td>1.0</td>\n",
       "      <td>10</td>\n",
       "      <td>0</td>\n",
       "      <td>0</td>\n",
       "      <td>50</td>\n",
       "      <td>0</td>\n",
       "    </tr>\n",
       "    <tr>\n",
       "      <th>4</th>\n",
       "      <td>48945</td>\n",
       "      <td>Technology</td>\n",
       "      <td>region_26</td>\n",
       "      <td>Bachelor's</td>\n",
       "      <td>m</td>\n",
       "      <td>other</td>\n",
       "      <td>1</td>\n",
       "      <td>45</td>\n",
       "      <td>3.0</td>\n",
       "      <td>2</td>\n",
       "      <td>0</td>\n",
       "      <td>0</td>\n",
       "      <td>73</td>\n",
       "      <td>0</td>\n",
       "    </tr>\n",
       "  </tbody>\n",
       "</table>\n",
       "</div>"
      ],
      "text/plain": [
       "   employee_id         department     region         education gender  \\\n",
       "0        65438  Sales & Marketing   region_7  Master's & above      f   \n",
       "1        65141         Operations  region_22        Bachelor's      m   \n",
       "2         7513  Sales & Marketing  region_19        Bachelor's      m   \n",
       "3         2542  Sales & Marketing  region_23        Bachelor's      m   \n",
       "4        48945         Technology  region_26        Bachelor's      m   \n",
       "\n",
       "  recruitment_channel  no_of_trainings  age  previous_year_rating  \\\n",
       "0            sourcing                1   35                   5.0   \n",
       "1               other                1   30                   5.0   \n",
       "2            sourcing                1   34                   3.0   \n",
       "3               other                2   39                   1.0   \n",
       "4               other                1   45                   3.0   \n",
       "\n",
       "   length_of_service  KPIs_met >80%  awards_won?  avg_training_score  \\\n",
       "0                  8              1            0                  49   \n",
       "1                  4              0            0                  60   \n",
       "2                  7              0            0                  50   \n",
       "3                 10              0            0                  50   \n",
       "4                  2              0            0                  73   \n",
       "\n",
       "   is_promoted  \n",
       "0            0  \n",
       "1            0  \n",
       "2            0  \n",
       "3            0  \n",
       "4            0  "
      ]
     },
     "execution_count": 873,
     "metadata": {},
     "output_type": "execute_result"
    }
   ],
   "source": [
    "data = pd.read_csv(\"DataSet/train (1).csv\")\n",
    "data.head()"
   ]
  },
  {
   "cell_type": "markdown",
   "id": "7d43e75a",
   "metadata": {},
   "source": [
    "# Information about the dataset"
   ]
  },
  {
   "cell_type": "code",
   "execution_count": 874,
   "id": "55384961",
   "metadata": {},
   "outputs": [
    {
     "name": "stdout",
     "output_type": "stream",
     "text": [
      "<class 'pandas.core.frame.DataFrame'>\n",
      "RangeIndex: 54808 entries, 0 to 54807\n",
      "Data columns (total 14 columns):\n",
      " #   Column                Non-Null Count  Dtype  \n",
      "---  ------                --------------  -----  \n",
      " 0   employee_id           54808 non-null  int64  \n",
      " 1   department            54808 non-null  object \n",
      " 2   region                54808 non-null  object \n",
      " 3   education             52399 non-null  object \n",
      " 4   gender                54808 non-null  object \n",
      " 5   recruitment_channel   54808 non-null  object \n",
      " 6   no_of_trainings       54808 non-null  int64  \n",
      " 7   age                   54808 non-null  int64  \n",
      " 8   previous_year_rating  50684 non-null  float64\n",
      " 9   length_of_service     54808 non-null  int64  \n",
      " 10  KPIs_met >80%         54808 non-null  int64  \n",
      " 11  awards_won?           54808 non-null  int64  \n",
      " 12  avg_training_score    54808 non-null  int64  \n",
      " 13  is_promoted           54808 non-null  int64  \n",
      "dtypes: float64(1), int64(8), object(5)\n",
      "memory usage: 5.9+ MB\n"
     ]
    }
   ],
   "source": [
    "data.info()"
   ]
  },
  {
   "cell_type": "markdown",
   "id": "3196debe",
   "metadata": {},
   "source": [
    "### Getting Records and Features"
   ]
  },
  {
   "cell_type": "code",
   "execution_count": 875,
   "id": "36d25200",
   "metadata": {},
   "outputs": [
    {
     "data": {
      "text/plain": [
       "Index(['employee_id', 'department', 'region', 'education', 'gender',\n",
       "       'recruitment_channel', 'no_of_trainings', 'age', 'previous_year_rating',\n",
       "       'length_of_service', 'KPIs_met >80%', 'awards_won?',\n",
       "       'avg_training_score', 'is_promoted'],\n",
       "      dtype='object')"
      ]
     },
     "execution_count": 875,
     "metadata": {},
     "output_type": "execute_result"
    }
   ],
   "source": [
    "data.columns"
   ]
  },
  {
   "cell_type": "code",
   "execution_count": 876,
   "id": "28291775",
   "metadata": {},
   "outputs": [
    {
     "name": "stdout",
     "output_type": "stream",
     "text": [
      "Records : 54808\n",
      "Features : 14\n"
     ]
    }
   ],
   "source": [
    "print(f'Records : {data.shape[0]}\\nFeatures : {data.shape[1]}')"
   ]
  },
  {
   "cell_type": "markdown",
   "id": "7d6dd107",
   "metadata": {},
   "source": [
    "# Data Cleaning and Exploratory Data Analysis"
   ]
  },
  {
   "cell_type": "code",
   "execution_count": 877,
   "id": "d1428b1c",
   "metadata": {},
   "outputs": [
    {
     "data": {
      "text/plain": [
       "employee_id             False\n",
       "department              False\n",
       "region                  False\n",
       "education                True\n",
       "gender                  False\n",
       "recruitment_channel     False\n",
       "no_of_trainings         False\n",
       "age                     False\n",
       "previous_year_rating     True\n",
       "length_of_service       False\n",
       "KPIs_met >80%           False\n",
       "awards_won?             False\n",
       "avg_training_score      False\n",
       "is_promoted             False\n",
       "dtype: bool"
      ]
     },
     "execution_count": 877,
     "metadata": {},
     "output_type": "execute_result"
    }
   ],
   "source": [
    "data.isna().any()"
   ]
  },
  {
   "cell_type": "code",
   "execution_count": 878,
   "id": "a2717a25",
   "metadata": {},
   "outputs": [
    {
     "data": {
      "text/html": [
       "<style type=\"text/css\">\n",
       "#T_2fe4e_row0_col0, #T_2fe4e_row1_col0, #T_2fe4e_row2_col0, #T_2fe4e_row4_col0, #T_2fe4e_row5_col0, #T_2fe4e_row6_col0, #T_2fe4e_row7_col0, #T_2fe4e_row9_col0, #T_2fe4e_row10_col0, #T_2fe4e_row11_col0, #T_2fe4e_row12_col0, #T_2fe4e_row13_col0 {\n",
       "  background-color: #3b4cc0;\n",
       "  color: #f1f1f1;\n",
       "}\n",
       "#T_2fe4e_row3_col0 {\n",
       "  background-color: #efcebd;\n",
       "  color: #000000;\n",
       "}\n",
       "#T_2fe4e_row8_col0 {\n",
       "  background-color: #b40426;\n",
       "  color: #f1f1f1;\n",
       "}\n",
       "</style>\n",
       "<table id=\"T_2fe4e\">\n",
       "  <thead>\n",
       "    <tr>\n",
       "      <th class=\"blank level0\" >&nbsp;</th>\n",
       "      <th id=\"T_2fe4e_level0_col0\" class=\"col_heading level0 col0\" >Percentage</th>\n",
       "    </tr>\n",
       "  </thead>\n",
       "  <tbody>\n",
       "    <tr>\n",
       "      <th id=\"T_2fe4e_level0_row0\" class=\"row_heading level0 row0\" >employee_id</th>\n",
       "      <td id=\"T_2fe4e_row0_col0\" class=\"data row0 col0\" >0.000000</td>\n",
       "    </tr>\n",
       "    <tr>\n",
       "      <th id=\"T_2fe4e_level0_row1\" class=\"row_heading level0 row1\" >department</th>\n",
       "      <td id=\"T_2fe4e_row1_col0\" class=\"data row1 col0\" >0.000000</td>\n",
       "    </tr>\n",
       "    <tr>\n",
       "      <th id=\"T_2fe4e_level0_row2\" class=\"row_heading level0 row2\" >region</th>\n",
       "      <td id=\"T_2fe4e_row2_col0\" class=\"data row2 col0\" >0.000000</td>\n",
       "    </tr>\n",
       "    <tr>\n",
       "      <th id=\"T_2fe4e_level0_row3\" class=\"row_heading level0 row3\" >education</th>\n",
       "      <td id=\"T_2fe4e_row3_col0\" class=\"data row3 col0\" >4.395344</td>\n",
       "    </tr>\n",
       "    <tr>\n",
       "      <th id=\"T_2fe4e_level0_row4\" class=\"row_heading level0 row4\" >gender</th>\n",
       "      <td id=\"T_2fe4e_row4_col0\" class=\"data row4 col0\" >0.000000</td>\n",
       "    </tr>\n",
       "    <tr>\n",
       "      <th id=\"T_2fe4e_level0_row5\" class=\"row_heading level0 row5\" >recruitment_channel</th>\n",
       "      <td id=\"T_2fe4e_row5_col0\" class=\"data row5 col0\" >0.000000</td>\n",
       "    </tr>\n",
       "    <tr>\n",
       "      <th id=\"T_2fe4e_level0_row6\" class=\"row_heading level0 row6\" >no_of_trainings</th>\n",
       "      <td id=\"T_2fe4e_row6_col0\" class=\"data row6 col0\" >0.000000</td>\n",
       "    </tr>\n",
       "    <tr>\n",
       "      <th id=\"T_2fe4e_level0_row7\" class=\"row_heading level0 row7\" >age</th>\n",
       "      <td id=\"T_2fe4e_row7_col0\" class=\"data row7 col0\" >0.000000</td>\n",
       "    </tr>\n",
       "    <tr>\n",
       "      <th id=\"T_2fe4e_level0_row8\" class=\"row_heading level0 row8\" >previous_year_rating</th>\n",
       "      <td id=\"T_2fe4e_row8_col0\" class=\"data row8 col0\" >7.524449</td>\n",
       "    </tr>\n",
       "    <tr>\n",
       "      <th id=\"T_2fe4e_level0_row9\" class=\"row_heading level0 row9\" >length_of_service</th>\n",
       "      <td id=\"T_2fe4e_row9_col0\" class=\"data row9 col0\" >0.000000</td>\n",
       "    </tr>\n",
       "    <tr>\n",
       "      <th id=\"T_2fe4e_level0_row10\" class=\"row_heading level0 row10\" >KPIs_met >80%</th>\n",
       "      <td id=\"T_2fe4e_row10_col0\" class=\"data row10 col0\" >0.000000</td>\n",
       "    </tr>\n",
       "    <tr>\n",
       "      <th id=\"T_2fe4e_level0_row11\" class=\"row_heading level0 row11\" >awards_won?</th>\n",
       "      <td id=\"T_2fe4e_row11_col0\" class=\"data row11 col0\" >0.000000</td>\n",
       "    </tr>\n",
       "    <tr>\n",
       "      <th id=\"T_2fe4e_level0_row12\" class=\"row_heading level0 row12\" >avg_training_score</th>\n",
       "      <td id=\"T_2fe4e_row12_col0\" class=\"data row12 col0\" >0.000000</td>\n",
       "    </tr>\n",
       "    <tr>\n",
       "      <th id=\"T_2fe4e_level0_row13\" class=\"row_heading level0 row13\" >is_promoted</th>\n",
       "      <td id=\"T_2fe4e_row13_col0\" class=\"data row13 col0\" >0.000000</td>\n",
       "    </tr>\n",
       "  </tbody>\n",
       "</table>\n"
      ],
      "text/plain": [
       "<pandas.io.formats.style.Styler at 0x13e0d1cba00>"
      ]
     },
     "execution_count": 878,
     "metadata": {},
     "output_type": "execute_result"
    }
   ],
   "source": [
    "missing_values = pd.DataFrame({\"Percentage\":(data.isna().sum()/len(data)) * 100})\n",
    "missing_values.style.background_gradient(cmap\n",
    "                                         ='coolwarm')"
   ]
  },
  {
   "cell_type": "markdown",
   "id": "3e33da84",
   "metadata": {},
   "source": [
    "##### Visualization of NULL Values"
   ]
  },
  {
   "cell_type": "code",
   "execution_count": 879,
   "id": "9a04f6ee",
   "metadata": {},
   "outputs": [
    {
     "data": {
      "image/png": "[encoded data removed]",
      "text/plain": [
       "<Figure size 1440x360 with 3 Axes>"
      ]
     },
     "metadata": {
      "needs_background": "light"
     },
     "output_type": "display_data"
    }
   ],
   "source": [
    "fig,(ax1,ax2) = plt.subplots(1,2,figsize=(20,5))\n",
    "plt.suptitle(\"Visualization of NULL Values\")\n",
    "sns.heatmap(data.isna(),cmap='coolwarm',ax=ax1);\n",
    "data.isna().sum().plot(kind='bar',color='red',ax=ax2);"
   ]
  },
  {
   "cell_type": "markdown",
   "id": "63bd500d",
   "metadata": {},
   "source": [
    "### Numerical and Categorical Features Split"
   ]
  },
  {
   "cell_type": "code",
   "execution_count": 880,
   "id": "14ca2ee9",
   "metadata": {},
   "outputs": [
    {
     "name": "stdout",
     "output_type": "stream",
     "text": [
      "Numerical Features : Index(['employee_id', 'no_of_trainings', 'age', 'previous_year_rating',\n",
      "       'length_of_service', 'KPIs_met >80%', 'awards_won?',\n",
      "       'avg_training_score', 'is_promoted'],\n",
      "      dtype='object')\n",
      "\n",
      "Categorical Features : Index(['department', 'region', 'education', 'gender', 'recruitment_channel'], dtype='object')\n"
     ]
    }
   ],
   "source": [
    "num_features = data.select_dtypes(exclude='object').columns# Numerical Features\n",
    "cat_features = data.select_dtypes(include='object').columns # Categorical Features\n",
    "print(f'Numerical Features : {num_features}\\n\\nCategorical Features : {cat_features}')"
   ]
  },
  {
   "cell_type": "code",
   "execution_count": 881,
   "id": "0a41240b",
   "metadata": {},
   "outputs": [
    {
     "data": {
      "text/plain": [
       "Index(['employee_id', 'no_of_trainings', 'age', 'previous_year_rating',\n",
       "       'length_of_service', 'KPIs_met >80%', 'awards_won?',\n",
       "       'avg_training_score', 'is_promoted'],\n",
       "      dtype='object')"
      ]
     },
     "execution_count": 881,
     "metadata": {},
     "output_type": "execute_result"
    }
   ],
   "source": [
    "num_features"
   ]
  },
  {
   "cell_type": "code",
   "execution_count": 882,
   "id": "41820f43",
   "metadata": {},
   "outputs": [
    {
     "data": {
      "text/plain": [
       "Sales & Marketing    16840\n",
       "Operations           11348\n",
       "Technology            7138\n",
       "Procurement           7138\n",
       "Analytics             5352\n",
       "Finance               2536\n",
       "HR                    2418\n",
       "Legal                 1039\n",
       "R&D                    999\n",
       "Name: department, dtype: int64"
      ]
     },
     "execution_count": 882,
     "metadata": {},
     "output_type": "execute_result"
    }
   ],
   "source": [
    "data['department'].value_counts()"
   ]
  },
  {
   "cell_type": "markdown",
   "id": "445b3f67",
   "metadata": {},
   "source": [
    "### Distribution of Categorical Features "
   ]
  },
  {
   "cell_type": "code",
   "execution_count": 883,
   "id": "52bd777b",
   "metadata": {},
   "outputs": [
    {
     "data": {
      "image/png": "[encoded data removed]",
      "text/plain": [
       "<Figure size 1080x1440 with 5 Axes>"
      ]
     },
     "metadata": {
      "needs_background": "light"
     },
     "output_type": "display_data"
    }
   ],
   "source": [
    "fig=plt.figure(figsize=(15,20))\n",
    "for i, feature in enumerate(cat_features):\n",
    "    ax=fig.add_subplot(rows,cols,i+1)\n",
    "    data[feature].hist(bins=20,ax=ax,facecolor='midnightblue')\n",
    "    plt.xticks(rotation='vertical')\n",
    "    ax.set_title(feature+\" Distribution\",color='DarkRed')\n",
    "        \n",
    "fig.tight_layout()  \n",
    "plt.show()"
   ]
  },
  {
   "cell_type": "markdown",
   "id": "a6445d04",
   "metadata": {},
   "source": [
    "### Distribution of numerical Features"
   ]
  },
  {
   "cell_type": "code",
   "execution_count": 884,
   "id": "0da17b21",
   "metadata": {},
   "outputs": [
    {
     "data": {
      "text/plain": [
       "<Figure size 1440x1440 with 0 Axes>"
      ]
     },
     "metadata": {},
     "output_type": "display_data"
    },
    {
     "data": {
      "image/png": "[encoded data removed]",
      "text/plain": [
       "<Figure size 360x360 with 1 Axes>"
      ]
     },
     "metadata": {
      "needs_background": "light"
     },
     "output_type": "display_data"
    },
    {
     "data": {
      "image/png": "[encoded data removed]",
      "text/plain": [
       "<Figure size 360x360 with 1 Axes>"
      ]
     },
     "metadata": {
      "needs_background": "light"
     },
     "output_type": "display_data"
    },
    {
     "data": {
      "image/png": "[encoded data removed]",
      "text/plain": [
       "<Figure size 360x360 with 1 Axes>"
      ]
     },
     "metadata": {
      "needs_background": "light"
     },
     "output_type": "display_data"
    },
    {
     "data": {
      "image/png": "[encoded data removed]",
      "text/plain": [
       "<Figure size 360x360 with 1 Axes>"
      ]
     },
     "metadata": {
      "needs_background": "light"
     },
     "output_type": "display_data"
    },
    {
     "data": {
      "image/png": "[encoded data removed]",
      "text/plain": [
       "<Figure size 360x360 with 1 Axes>"
      ]
     },
     "metadata": {
      "needs_background": "light"
     },
     "output_type": "display_data"
    },
    {
     "data": {
      "image/png": "[encoded data removed]",
      "text/plain": [
       "<Figure size 360x360 with 1 Axes>"
      ]
     },
     "metadata": {
      "needs_background": "light"
     },
     "output_type": "display_data"
    },
    {
     "data": {
      "image/png": "[encoded data removed]",
      "text/plain": [
       "<Figure size 360x360 with 1 Axes>"
      ]
     },
     "metadata": {
      "needs_background": "light"
     },
     "output_type": "display_data"
    },
    {
     "data": {
      "image/png": "[encoded data removed]",
      "text/plain": [
       "<Figure size 360x360 with 1 Axes>"
      ]
     },
     "metadata": {
      "needs_background": "light"
     },
     "output_type": "display_data"
    },
    {
     "data": {
      "image/png": "[encoded data removed]",
      "text/plain": [
       "<Figure size 360x360 with 1 Axes>"
      ]
     },
     "metadata": {
      "needs_background": "light"
     },
     "output_type": "display_data"
    }
   ],
   "source": [
    "fig=plt.figure(figsize=(20,20))\n",
    "for i, feature in enumerate(num_features):\n",
    "    sns.displot(data[feature],ax=ax,color='red');\n",
    "    plt.xticks(rotation='vertical')\n",
    "      \n",
    "plt.show()"
   ]
  },
  {
   "cell_type": "code",
   "execution_count": 885,
   "id": "d5a687cd",
   "metadata": {},
   "outputs": [
    {
     "data": {
      "text/plain": [
       "<AxesSubplot:>"
      ]
     },
     "execution_count": 885,
     "metadata": {},
     "output_type": "execute_result"
    },
    {
     "data": {
      "image/png": "[encoded data removed]",
      "text/plain": [
       "<Figure size 1080x720 with 2 Axes>"
      ]
     },
     "metadata": {
      "needs_background": "light"
     },
     "output_type": "display_data"
    }
   ],
   "source": [
    "plt.figure(figsize=(15,10))\n",
    "sns.heatmap(data.corr(),annot=True,linewidths=0.2,linecolor='black',cmap='coolwarm')"
   ]
  },
  {
   "cell_type": "code",
   "execution_count": 886,
   "id": "e49153c0",
   "metadata": {},
   "outputs": [
    {
     "data": {
      "text/html": [
       "<style type=\"text/css\">\n",
       "#T_d6919_row0_col0, #T_d6919_row0_col1, #T_d6919_row0_col2, #T_d6919_row0_col4, #T_d6919_row0_col5, #T_d6919_row0_col6, #T_d6919_row0_col7, #T_d6919_row1_col0, #T_d6919_row2_col0, #T_d6919_row4_col0, #T_d6919_row5_col0, #T_d6919_row6_col0, #T_d6919_row7_col0, #T_d6919_row7_col3, #T_d6919_row8_col0 {\n",
       "  background-color: #b40426;\n",
       "  color: #f1f1f1;\n",
       "}\n",
       "#T_d6919_row0_col3, #T_d6919_row1_col3, #T_d6919_row3_col3, #T_d6919_row4_col3 {\n",
       "  background-color: #4257c9;\n",
       "  color: #f1f1f1;\n",
       "}\n",
       "#T_d6919_row1_col1, #T_d6919_row1_col2, #T_d6919_row1_col4, #T_d6919_row1_col5, #T_d6919_row1_col6, #T_d6919_row1_col7, #T_d6919_row2_col1, #T_d6919_row2_col2, #T_d6919_row2_col4, #T_d6919_row2_col5, #T_d6919_row2_col6, #T_d6919_row2_col7, #T_d6919_row3_col0, #T_d6919_row3_col1, #T_d6919_row3_col2, #T_d6919_row3_col4, #T_d6919_row3_col5, #T_d6919_row3_col6, #T_d6919_row3_col7, #T_d6919_row4_col1, #T_d6919_row4_col2, #T_d6919_row4_col4, #T_d6919_row4_col5, #T_d6919_row4_col6, #T_d6919_row4_col7, #T_d6919_row5_col1, #T_d6919_row5_col2, #T_d6919_row5_col3, #T_d6919_row5_col4, #T_d6919_row5_col5, #T_d6919_row5_col6, #T_d6919_row5_col7, #T_d6919_row6_col1, #T_d6919_row6_col2, #T_d6919_row6_col3, #T_d6919_row6_col4, #T_d6919_row6_col5, #T_d6919_row6_col6, #T_d6919_row6_col7, #T_d6919_row7_col1, #T_d6919_row7_col2, #T_d6919_row7_col4, #T_d6919_row7_col5, #T_d6919_row7_col6, #T_d6919_row7_col7, #T_d6919_row8_col1, #T_d6919_row8_col2, #T_d6919_row8_col3, #T_d6919_row8_col4, #T_d6919_row8_col5, #T_d6919_row8_col6, #T_d6919_row8_col7 {\n",
       "  background-color: #3b4cc0;\n",
       "  color: #f1f1f1;\n",
       "}\n",
       "#T_d6919_row2_col3 {\n",
       "  background-color: #e0dbd8;\n",
       "  color: #000000;\n",
       "}\n",
       "</style>\n",
       "<table id=\"T_d6919\">\n",
       "  <thead>\n",
       "    <tr>\n",
       "      <th class=\"blank level0\" >&nbsp;</th>\n",
       "      <th id=\"T_d6919_level0_col0\" class=\"col_heading level0 col0\" >count</th>\n",
       "      <th id=\"T_d6919_level0_col1\" class=\"col_heading level0 col1\" >mean</th>\n",
       "      <th id=\"T_d6919_level0_col2\" class=\"col_heading level0 col2\" >std</th>\n",
       "      <th id=\"T_d6919_level0_col3\" class=\"col_heading level0 col3\" >min</th>\n",
       "      <th id=\"T_d6919_level0_col4\" class=\"col_heading level0 col4\" >25%</th>\n",
       "      <th id=\"T_d6919_level0_col5\" class=\"col_heading level0 col5\" >50%</th>\n",
       "      <th id=\"T_d6919_level0_col6\" class=\"col_heading level0 col6\" >75%</th>\n",
       "      <th id=\"T_d6919_level0_col7\" class=\"col_heading level0 col7\" >max</th>\n",
       "    </tr>\n",
       "  </thead>\n",
       "  <tbody>\n",
       "    <tr>\n",
       "      <th id=\"T_d6919_level0_row0\" class=\"row_heading level0 row0\" >employee_id</th>\n",
       "      <td id=\"T_d6919_row0_col0\" class=\"data row0 col0\" >54808.000000</td>\n",
       "      <td id=\"T_d6919_row0_col1\" class=\"data row0 col1\" >39195.830627</td>\n",
       "      <td id=\"T_d6919_row0_col2\" class=\"data row0 col2\" >22586.581449</td>\n",
       "      <td id=\"T_d6919_row0_col3\" class=\"data row0 col3\" >1.000000</td>\n",
       "      <td id=\"T_d6919_row0_col4\" class=\"data row0 col4\" >19669.750000</td>\n",
       "      <td id=\"T_d6919_row0_col5\" class=\"data row0 col5\" >39225.500000</td>\n",
       "      <td id=\"T_d6919_row0_col6\" class=\"data row0 col6\" >58730.500000</td>\n",
       "      <td id=\"T_d6919_row0_col7\" class=\"data row0 col7\" >78298.000000</td>\n",
       "    </tr>\n",
       "    <tr>\n",
       "      <th id=\"T_d6919_level0_row1\" class=\"row_heading level0 row1\" >no_of_trainings</th>\n",
       "      <td id=\"T_d6919_row1_col0\" class=\"data row1 col0\" >54808.000000</td>\n",
       "      <td id=\"T_d6919_row1_col1\" class=\"data row1 col1\" >1.253011</td>\n",
       "      <td id=\"T_d6919_row1_col2\" class=\"data row1 col2\" >0.609264</td>\n",
       "      <td id=\"T_d6919_row1_col3\" class=\"data row1 col3\" >1.000000</td>\n",
       "      <td id=\"T_d6919_row1_col4\" class=\"data row1 col4\" >1.000000</td>\n",
       "      <td id=\"T_d6919_row1_col5\" class=\"data row1 col5\" >1.000000</td>\n",
       "      <td id=\"T_d6919_row1_col6\" class=\"data row1 col6\" >1.000000</td>\n",
       "      <td id=\"T_d6919_row1_col7\" class=\"data row1 col7\" >10.000000</td>\n",
       "    </tr>\n",
       "    <tr>\n",
       "      <th id=\"T_d6919_level0_row2\" class=\"row_heading level0 row2\" >age</th>\n",
       "      <td id=\"T_d6919_row2_col0\" class=\"data row2 col0\" >54808.000000</td>\n",
       "      <td id=\"T_d6919_row2_col1\" class=\"data row2 col1\" >34.803915</td>\n",
       "      <td id=\"T_d6919_row2_col2\" class=\"data row2 col2\" >7.660169</td>\n",
       "      <td id=\"T_d6919_row2_col3\" class=\"data row2 col3\" >20.000000</td>\n",
       "      <td id=\"T_d6919_row2_col4\" class=\"data row2 col4\" >29.000000</td>\n",
       "      <td id=\"T_d6919_row2_col5\" class=\"data row2 col5\" >33.000000</td>\n",
       "      <td id=\"T_d6919_row2_col6\" class=\"data row2 col6\" >39.000000</td>\n",
       "      <td id=\"T_d6919_row2_col7\" class=\"data row2 col7\" >60.000000</td>\n",
       "    </tr>\n",
       "    <tr>\n",
       "      <th id=\"T_d6919_level0_row3\" class=\"row_heading level0 row3\" >previous_year_rating</th>\n",
       "      <td id=\"T_d6919_row3_col0\" class=\"data row3 col0\" >50684.000000</td>\n",
       "      <td id=\"T_d6919_row3_col1\" class=\"data row3 col1\" >3.329256</td>\n",
       "      <td id=\"T_d6919_row3_col2\" class=\"data row3 col2\" >1.259993</td>\n",
       "      <td id=\"T_d6919_row3_col3\" class=\"data row3 col3\" >1.000000</td>\n",
       "      <td id=\"T_d6919_row3_col4\" class=\"data row3 col4\" >3.000000</td>\n",
       "      <td id=\"T_d6919_row3_col5\" class=\"data row3 col5\" >3.000000</td>\n",
       "      <td id=\"T_d6919_row3_col6\" class=\"data row3 col6\" >4.000000</td>\n",
       "      <td id=\"T_d6919_row3_col7\" class=\"data row3 col7\" >5.000000</td>\n",
       "    </tr>\n",
       "    <tr>\n",
       "      <th id=\"T_d6919_level0_row4\" class=\"row_heading level0 row4\" >length_of_service</th>\n",
       "      <td id=\"T_d6919_row4_col0\" class=\"data row4 col0\" >54808.000000</td>\n",
       "      <td id=\"T_d6919_row4_col1\" class=\"data row4 col1\" >5.865512</td>\n",
       "      <td id=\"T_d6919_row4_col2\" class=\"data row4 col2\" >4.265094</td>\n",
       "      <td id=\"T_d6919_row4_col3\" class=\"data row4 col3\" >1.000000</td>\n",
       "      <td id=\"T_d6919_row4_col4\" class=\"data row4 col4\" >3.000000</td>\n",
       "      <td id=\"T_d6919_row4_col5\" class=\"data row4 col5\" >5.000000</td>\n",
       "      <td id=\"T_d6919_row4_col6\" class=\"data row4 col6\" >7.000000</td>\n",
       "      <td id=\"T_d6919_row4_col7\" class=\"data row4 col7\" >37.000000</td>\n",
       "    </tr>\n",
       "    <tr>\n",
       "      <th id=\"T_d6919_level0_row5\" class=\"row_heading level0 row5\" >KPIs_met >80%</th>\n",
       "      <td id=\"T_d6919_row5_col0\" class=\"data row5 col0\" >54808.000000</td>\n",
       "      <td id=\"T_d6919_row5_col1\" class=\"data row5 col1\" >0.351974</td>\n",
       "      <td id=\"T_d6919_row5_col2\" class=\"data row5 col2\" >0.477590</td>\n",
       "      <td id=\"T_d6919_row5_col3\" class=\"data row5 col3\" >0.000000</td>\n",
       "      <td id=\"T_d6919_row5_col4\" class=\"data row5 col4\" >0.000000</td>\n",
       "      <td id=\"T_d6919_row5_col5\" class=\"data row5 col5\" >0.000000</td>\n",
       "      <td id=\"T_d6919_row5_col6\" class=\"data row5 col6\" >1.000000</td>\n",
       "      <td id=\"T_d6919_row5_col7\" class=\"data row5 col7\" >1.000000</td>\n",
       "    </tr>\n",
       "    <tr>\n",
       "      <th id=\"T_d6919_level0_row6\" class=\"row_heading level0 row6\" >awards_won?</th>\n",
       "      <td id=\"T_d6919_row6_col0\" class=\"data row6 col0\" >54808.000000</td>\n",
       "      <td id=\"T_d6919_row6_col1\" class=\"data row6 col1\" >0.023172</td>\n",
       "      <td id=\"T_d6919_row6_col2\" class=\"data row6 col2\" >0.150450</td>\n",
       "      <td id=\"T_d6919_row6_col3\" class=\"data row6 col3\" >0.000000</td>\n",
       "      <td id=\"T_d6919_row6_col4\" class=\"data row6 col4\" >0.000000</td>\n",
       "      <td id=\"T_d6919_row6_col5\" class=\"data row6 col5\" >0.000000</td>\n",
       "      <td id=\"T_d6919_row6_col6\" class=\"data row6 col6\" >0.000000</td>\n",
       "      <td id=\"T_d6919_row6_col7\" class=\"data row6 col7\" >1.000000</td>\n",
       "    </tr>\n",
       "    <tr>\n",
       "      <th id=\"T_d6919_level0_row7\" class=\"row_heading level0 row7\" >avg_training_score</th>\n",
       "      <td id=\"T_d6919_row7_col0\" class=\"data row7 col0\" >54808.000000</td>\n",
       "      <td id=\"T_d6919_row7_col1\" class=\"data row7 col1\" >63.386750</td>\n",
       "      <td id=\"T_d6919_row7_col2\" class=\"data row7 col2\" >13.371559</td>\n",
       "      <td id=\"T_d6919_row7_col3\" class=\"data row7 col3\" >39.000000</td>\n",
       "      <td id=\"T_d6919_row7_col4\" class=\"data row7 col4\" >51.000000</td>\n",
       "      <td id=\"T_d6919_row7_col5\" class=\"data row7 col5\" >60.000000</td>\n",
       "      <td id=\"T_d6919_row7_col6\" class=\"data row7 col6\" >76.000000</td>\n",
       "      <td id=\"T_d6919_row7_col7\" class=\"data row7 col7\" >99.000000</td>\n",
       "    </tr>\n",
       "    <tr>\n",
       "      <th id=\"T_d6919_level0_row8\" class=\"row_heading level0 row8\" >is_promoted</th>\n",
       "      <td id=\"T_d6919_row8_col0\" class=\"data row8 col0\" >54808.000000</td>\n",
       "      <td id=\"T_d6919_row8_col1\" class=\"data row8 col1\" >0.085170</td>\n",
       "      <td id=\"T_d6919_row8_col2\" class=\"data row8 col2\" >0.279137</td>\n",
       "      <td id=\"T_d6919_row8_col3\" class=\"data row8 col3\" >0.000000</td>\n",
       "      <td id=\"T_d6919_row8_col4\" class=\"data row8 col4\" >0.000000</td>\n",
       "      <td id=\"T_d6919_row8_col5\" class=\"data row8 col5\" >0.000000</td>\n",
       "      <td id=\"T_d6919_row8_col6\" class=\"data row8 col6\" >0.000000</td>\n",
       "      <td id=\"T_d6919_row8_col7\" class=\"data row8 col7\" >1.000000</td>\n",
       "    </tr>\n",
       "  </tbody>\n",
       "</table>\n"
      ],
      "text/plain": [
       "<pandas.io.formats.style.Styler at 0x13e13df72b0>"
      ]
     },
     "execution_count": 886,
     "metadata": {},
     "output_type": "execute_result"
    }
   ],
   "source": [
    "data.describe().T.style.background_gradient(cmap='coolwarm')"
   ]
  },
  {
   "cell_type": "markdown",
   "id": "7db4e93a",
   "metadata": {},
   "source": [
    "### Distribution of Target Features"
   ]
  },
  {
   "cell_type": "markdown",
   "id": "57d9f034",
   "metadata": {},
   "source": [
    "##### Most of the records has not promoted"
   ]
  },
  {
   "cell_type": "code",
   "execution_count": 887,
   "id": "250187e7",
   "metadata": {},
   "outputs": [
    {
     "data": {
      "text/plain": [
       "<AxesSubplot:>"
      ]
     },
     "execution_count": 887,
     "metadata": {},
     "output_type": "execute_result"
    },
    {
     "data": {
      "image/png": "[encoded data removed]",
      "text/plain": [
       "<Figure size 432x288 with 1 Axes>"
      ]
     },
     "metadata": {
      "needs_background": "light"
     },
     "output_type": "display_data"
    }
   ],
   "source": [
    "data['is_promoted'].value_counts().plot(kind='bar',color='midnightblue')"
   ]
  },
  {
   "cell_type": "markdown",
   "id": "0508161b",
   "metadata": {},
   "source": [
    "### Distribution of Age Feature"
   ]
  },
  {
   "cell_type": "code",
   "execution_count": 888,
   "id": "1e6b3921",
   "metadata": {},
   "outputs": [
    {
     "data": {
      "image/png": "[encoded data removed]",
      "text/plain": [
       "<Figure size 432x288 with 1 Axes>"
      ]
     },
     "metadata": {
      "needs_background": "light"
     },
     "output_type": "display_data"
    }
   ],
   "source": [
    "data['age'].hist(bins=15,density=True)\n",
    "plt.axvline(data['age'].mean(),color='red')\n",
    "plt.axvline(data['age'].median(),color='black')\n",
    "plt.suptitle(f'Mean:{data.age.mean()} Median:{data.age.median()}');"
   ]
  },
  {
   "cell_type": "code",
   "execution_count": 889,
   "id": "80c41301",
   "metadata": {},
   "outputs": [
    {
     "data": {
      "text/html": [
       "<div>\n",
       "<style scoped>\n",
       "    .dataframe tbody tr th:only-of-type {\n",
       "        vertical-align: middle;\n",
       "    }\n",
       "\n",
       "    .dataframe tbody tr th {\n",
       "        vertical-align: top;\n",
       "    }\n",
       "\n",
       "    .dataframe thead th {\n",
       "        text-align: right;\n",
       "    }\n",
       "</style>\n",
       "<table border=\"1\" class=\"dataframe\">\n",
       "  <thead>\n",
       "    <tr style=\"text-align: right;\">\n",
       "      <th></th>\n",
       "      <th>employee_id</th>\n",
       "      <th>department</th>\n",
       "      <th>region</th>\n",
       "      <th>education</th>\n",
       "      <th>gender</th>\n",
       "      <th>recruitment_channel</th>\n",
       "      <th>no_of_trainings</th>\n",
       "      <th>age</th>\n",
       "      <th>previous_year_rating</th>\n",
       "      <th>length_of_service</th>\n",
       "      <th>KPIs_met &gt;80%</th>\n",
       "      <th>awards_won?</th>\n",
       "      <th>avg_training_score</th>\n",
       "      <th>is_promoted</th>\n",
       "    </tr>\n",
       "  </thead>\n",
       "  <tbody>\n",
       "    <tr>\n",
       "      <th>0</th>\n",
       "      <td>65438</td>\n",
       "      <td>Sales &amp; Marketing</td>\n",
       "      <td>region_7</td>\n",
       "      <td>Master's &amp; above</td>\n",
       "      <td>f</td>\n",
       "      <td>sourcing</td>\n",
       "      <td>1</td>\n",
       "      <td>35</td>\n",
       "      <td>5.0</td>\n",
       "      <td>8</td>\n",
       "      <td>1</td>\n",
       "      <td>0</td>\n",
       "      <td>49</td>\n",
       "      <td>0</td>\n",
       "    </tr>\n",
       "    <tr>\n",
       "      <th>1</th>\n",
       "      <td>65141</td>\n",
       "      <td>Operations</td>\n",
       "      <td>region_22</td>\n",
       "      <td>Bachelor's</td>\n",
       "      <td>m</td>\n",
       "      <td>other</td>\n",
       "      <td>1</td>\n",
       "      <td>30</td>\n",
       "      <td>5.0</td>\n",
       "      <td>4</td>\n",
       "      <td>0</td>\n",
       "      <td>0</td>\n",
       "      <td>60</td>\n",
       "      <td>0</td>\n",
       "    </tr>\n",
       "    <tr>\n",
       "      <th>2</th>\n",
       "      <td>7513</td>\n",
       "      <td>Sales &amp; Marketing</td>\n",
       "      <td>region_19</td>\n",
       "      <td>Bachelor's</td>\n",
       "      <td>m</td>\n",
       "      <td>sourcing</td>\n",
       "      <td>1</td>\n",
       "      <td>34</td>\n",
       "      <td>3.0</td>\n",
       "      <td>7</td>\n",
       "      <td>0</td>\n",
       "      <td>0</td>\n",
       "      <td>50</td>\n",
       "      <td>0</td>\n",
       "    </tr>\n",
       "    <tr>\n",
       "      <th>3</th>\n",
       "      <td>2542</td>\n",
       "      <td>Sales &amp; Marketing</td>\n",
       "      <td>region_23</td>\n",
       "      <td>Bachelor's</td>\n",
       "      <td>m</td>\n",
       "      <td>other</td>\n",
       "      <td>2</td>\n",
       "      <td>39</td>\n",
       "      <td>1.0</td>\n",
       "      <td>10</td>\n",
       "      <td>0</td>\n",
       "      <td>0</td>\n",
       "      <td>50</td>\n",
       "      <td>0</td>\n",
       "    </tr>\n",
       "    <tr>\n",
       "      <th>4</th>\n",
       "      <td>48945</td>\n",
       "      <td>Technology</td>\n",
       "      <td>region_26</td>\n",
       "      <td>Bachelor's</td>\n",
       "      <td>m</td>\n",
       "      <td>other</td>\n",
       "      <td>1</td>\n",
       "      <td>45</td>\n",
       "      <td>3.0</td>\n",
       "      <td>2</td>\n",
       "      <td>0</td>\n",
       "      <td>0</td>\n",
       "      <td>73</td>\n",
       "      <td>0</td>\n",
       "    </tr>\n",
       "    <tr>\n",
       "      <th>...</th>\n",
       "      <td>...</td>\n",
       "      <td>...</td>\n",
       "      <td>...</td>\n",
       "      <td>...</td>\n",
       "      <td>...</td>\n",
       "      <td>...</td>\n",
       "      <td>...</td>\n",
       "      <td>...</td>\n",
       "      <td>...</td>\n",
       "      <td>...</td>\n",
       "      <td>...</td>\n",
       "      <td>...</td>\n",
       "      <td>...</td>\n",
       "      <td>...</td>\n",
       "    </tr>\n",
       "    <tr>\n",
       "      <th>54803</th>\n",
       "      <td>3030</td>\n",
       "      <td>Technology</td>\n",
       "      <td>region_14</td>\n",
       "      <td>Bachelor's</td>\n",
       "      <td>m</td>\n",
       "      <td>sourcing</td>\n",
       "      <td>1</td>\n",
       "      <td>48</td>\n",
       "      <td>3.0</td>\n",
       "      <td>17</td>\n",
       "      <td>0</td>\n",
       "      <td>0</td>\n",
       "      <td>78</td>\n",
       "      <td>0</td>\n",
       "    </tr>\n",
       "    <tr>\n",
       "      <th>54804</th>\n",
       "      <td>74592</td>\n",
       "      <td>Operations</td>\n",
       "      <td>region_27</td>\n",
       "      <td>Master's &amp; above</td>\n",
       "      <td>f</td>\n",
       "      <td>other</td>\n",
       "      <td>1</td>\n",
       "      <td>37</td>\n",
       "      <td>2.0</td>\n",
       "      <td>6</td>\n",
       "      <td>0</td>\n",
       "      <td>0</td>\n",
       "      <td>56</td>\n",
       "      <td>0</td>\n",
       "    </tr>\n",
       "    <tr>\n",
       "      <th>54805</th>\n",
       "      <td>13918</td>\n",
       "      <td>Analytics</td>\n",
       "      <td>region_1</td>\n",
       "      <td>Bachelor's</td>\n",
       "      <td>m</td>\n",
       "      <td>other</td>\n",
       "      <td>1</td>\n",
       "      <td>27</td>\n",
       "      <td>5.0</td>\n",
       "      <td>3</td>\n",
       "      <td>1</td>\n",
       "      <td>0</td>\n",
       "      <td>79</td>\n",
       "      <td>0</td>\n",
       "    </tr>\n",
       "    <tr>\n",
       "      <th>54806</th>\n",
       "      <td>13614</td>\n",
       "      <td>Sales &amp; Marketing</td>\n",
       "      <td>region_9</td>\n",
       "      <td>NaN</td>\n",
       "      <td>m</td>\n",
       "      <td>sourcing</td>\n",
       "      <td>1</td>\n",
       "      <td>29</td>\n",
       "      <td>1.0</td>\n",
       "      <td>2</td>\n",
       "      <td>0</td>\n",
       "      <td>0</td>\n",
       "      <td>45</td>\n",
       "      <td>0</td>\n",
       "    </tr>\n",
       "    <tr>\n",
       "      <th>54807</th>\n",
       "      <td>51526</td>\n",
       "      <td>HR</td>\n",
       "      <td>region_22</td>\n",
       "      <td>Bachelor's</td>\n",
       "      <td>m</td>\n",
       "      <td>other</td>\n",
       "      <td>1</td>\n",
       "      <td>27</td>\n",
       "      <td>1.0</td>\n",
       "      <td>5</td>\n",
       "      <td>0</td>\n",
       "      <td>0</td>\n",
       "      <td>49</td>\n",
       "      <td>0</td>\n",
       "    </tr>\n",
       "  </tbody>\n",
       "</table>\n",
       "<p>54808 rows × 14 columns</p>\n",
       "</div>"
      ],
      "text/plain": [
       "       employee_id         department     region         education gender  \\\n",
       "0            65438  Sales & Marketing   region_7  Master's & above      f   \n",
       "1            65141         Operations  region_22        Bachelor's      m   \n",
       "2             7513  Sales & Marketing  region_19        Bachelor's      m   \n",
       "3             2542  Sales & Marketing  region_23        Bachelor's      m   \n",
       "4            48945         Technology  region_26        Bachelor's      m   \n",
       "...            ...                ...        ...               ...    ...   \n",
       "54803         3030         Technology  region_14        Bachelor's      m   \n",
       "54804        74592         Operations  region_27  Master's & above      f   \n",
       "54805        13918          Analytics   region_1        Bachelor's      m   \n",
       "54806        13614  Sales & Marketing   region_9               NaN      m   \n",
       "54807        51526                 HR  region_22        Bachelor's      m   \n",
       "\n",
       "      recruitment_channel  no_of_trainings  age  previous_year_rating  \\\n",
       "0                sourcing                1   35                   5.0   \n",
       "1                   other                1   30                   5.0   \n",
       "2                sourcing                1   34                   3.0   \n",
       "3                   other                2   39                   1.0   \n",
       "4                   other                1   45                   3.0   \n",
       "...                   ...              ...  ...                   ...   \n",
       "54803            sourcing                1   48                   3.0   \n",
       "54804               other                1   37                   2.0   \n",
       "54805               other                1   27                   5.0   \n",
       "54806            sourcing                1   29                   1.0   \n",
       "54807               other                1   27                   1.0   \n",
       "\n",
       "       length_of_service  KPIs_met >80%  awards_won?  avg_training_score  \\\n",
       "0                      8              1            0                  49   \n",
       "1                      4              0            0                  60   \n",
       "2                      7              0            0                  50   \n",
       "3                     10              0            0                  50   \n",
       "4                      2              0            0                  73   \n",
       "...                  ...            ...          ...                 ...   \n",
       "54803                 17              0            0                  78   \n",
       "54804                  6              0            0                  56   \n",
       "54805                  3              1            0                  79   \n",
       "54806                  2              0            0                  45   \n",
       "54807                  5              0            0                  49   \n",
       "\n",
       "       is_promoted  \n",
       "0                0  \n",
       "1                0  \n",
       "2                0  \n",
       "3                0  \n",
       "4                0  \n",
       "...            ...  \n",
       "54803            0  \n",
       "54804            0  \n",
       "54805            0  \n",
       "54806            0  \n",
       "54807            0  \n",
       "\n",
       "[54808 rows x 14 columns]"
      ]
     },
     "execution_count": 889,
     "metadata": {},
     "output_type": "execute_result"
    }
   ],
   "source": [
    "data"
   ]
  },
  {
   "cell_type": "markdown",
   "id": "d4bf0b22",
   "metadata": {},
   "source": [
    "# Filling the missing values"
   ]
  },
  {
   "cell_type": "code",
   "execution_count": 890,
   "id": "6120c70e",
   "metadata": {},
   "outputs": [
    {
     "data": {
      "text/plain": [
       "employee_id             False\n",
       "department              False\n",
       "region                  False\n",
       "education               False\n",
       "gender                  False\n",
       "recruitment_channel     False\n",
       "no_of_trainings         False\n",
       "age                     False\n",
       "previous_year_rating    False\n",
       "length_of_service       False\n",
       "KPIs_met >80%           False\n",
       "awards_won?             False\n",
       "avg_training_score      False\n",
       "is_promoted             False\n",
       "dtype: bool"
      ]
     },
     "execution_count": 890,
     "metadata": {},
     "output_type": "execute_result"
    }
   ],
   "source": [
    "fill_values = {'education': 'missing',\n",
    "               'previous_year_rating': 0}\n",
    "data = data.fillna(value=fill_values)\n",
    "data.isna().any()"
   ]
  },
  {
   "cell_type": "markdown",
   "id": "97c18309",
   "metadata": {},
   "source": [
    "# Data Preparation"
   ]
  },
  {
   "cell_type": "markdown",
   "id": "93085eaa",
   "metadata": {},
   "source": [
    "### Gender - Feature - Binarization"
   ]
  },
  {
   "cell_type": "code",
   "execution_count": 891,
   "id": "a4935cdb",
   "metadata": {},
   "outputs": [
    {
     "data": {
      "text/plain": [
       "<AxesSubplot:xlabel='gender', ylabel='count'>"
      ]
     },
     "execution_count": 891,
     "metadata": {},
     "output_type": "execute_result"
    },
    {
     "data": {
      "image/png": "[encoded data removed]",
      "text/plain": [
       "<Figure size 432x288 with 1 Axes>"
      ]
     },
     "metadata": {
      "needs_background": "light"
     },
     "output_type": "display_data"
    }
   ],
   "source": [
    "sns.countplot(data['gender'],palette=[\"#b9d801\", \"#000000\"])"
   ]
  },
  {
   "cell_type": "code",
   "execution_count": 892,
   "id": "e8a235ea",
   "metadata": {},
   "outputs": [],
   "source": [
    "def gender_binarization(data,i):\n",
    "    data[i] = data[i].apply(lambda x : 1 if x=='m' else 0)"
   ]
  },
  {
   "cell_type": "code",
   "execution_count": 893,
   "id": "f064cd57",
   "metadata": {},
   "outputs": [],
   "source": [
    "gender_binarization(data,'gender')"
   ]
  },
  {
   "cell_type": "markdown",
   "id": "244051ac",
   "metadata": {},
   "source": [
    "### Skewed Feature transformation"
   ]
  },
  {
   "cell_type": "code",
   "execution_count": 894,
   "id": "da61aa77",
   "metadata": {},
   "outputs": [
    {
     "data": {
      "image/png": "[encoded data removed]",
      "text/plain": [
       "<Figure size 1296x432 with 2 Axes>"
      ]
     },
     "metadata": {
      "needs_background": "light"
     },
     "output_type": "display_data"
    }
   ],
   "source": [
    "fig,(ax1,ax2) = plt.subplots(1, 2, figsize=(18, 6))\n",
    "\n",
    "sns.distplot(data['age'], kde=True, ax=ax1,color='r')\n",
    "ax1.set_title(f'Age distribution : Skew{data.age.skew()}')\n",
    "df_ag_log = np.log(data['age']).skew()\n",
    "sns.distplot(np.log(data['age']), kde=True, ax=ax2)      \n",
    "ax2.set_title(f'log-transformed-AGE distribution : Skew{df_ag_log}')\n",
    "ax2.set_xlabel('log(age)')\n",
    "\n",
    "plt.show()"
   ]
  },
  {
   "cell_type": "markdown",
   "id": "f80d28bb",
   "metadata": {},
   "source": [
    "##### Clearly log transformation in age feature reduces skew features"
   ]
  },
  {
   "cell_type": "code",
   "execution_count": 895,
   "id": "4648c010",
   "metadata": {},
   "outputs": [],
   "source": [
    "def apply_log_to_feature(data,i):\n",
    "    data[i] = np.log(data[i])"
   ]
  },
  {
   "cell_type": "code",
   "execution_count": 896,
   "id": "cc313ef6",
   "metadata": {},
   "outputs": [],
   "source": [
    "apply_log_to_feature(data,'age')"
   ]
  },
  {
   "cell_type": "code",
   "execution_count": 897,
   "id": "a32e7889",
   "metadata": {},
   "outputs": [
    {
     "name": "stdout",
     "output_type": "stream",
     "text": [
      "<class 'pandas.core.frame.DataFrame'>\n",
      "RangeIndex: 54808 entries, 0 to 54807\n",
      "Data columns (total 14 columns):\n",
      " #   Column                Non-Null Count  Dtype  \n",
      "---  ------                --------------  -----  \n",
      " 0   employee_id           54808 non-null  int64  \n",
      " 1   department            54808 non-null  object \n",
      " 2   region                54808 non-null  object \n",
      " 3   education             54808 non-null  object \n",
      " 4   gender                54808 non-null  int64  \n",
      " 5   recruitment_channel   54808 non-null  object \n",
      " 6   no_of_trainings       54808 non-null  int64  \n",
      " 7   age                   54808 non-null  float64\n",
      " 8   previous_year_rating  54808 non-null  float64\n",
      " 9   length_of_service     54808 non-null  int64  \n",
      " 10  KPIs_met >80%         54808 non-null  int64  \n",
      " 11  awards_won?           54808 non-null  int64  \n",
      " 12  avg_training_score    54808 non-null  int64  \n",
      " 13  is_promoted           54808 non-null  int64  \n",
      "dtypes: float64(2), int64(8), object(4)\n",
      "memory usage: 5.9+ MB\n"
     ]
    }
   ],
   "source": [
    "data.info()"
   ]
  },
  {
   "cell_type": "code",
   "execution_count": 898,
   "id": "ab95b6b1",
   "metadata": {},
   "outputs": [
    {
     "data": {
      "text/plain": [
       "0.48230408268904185"
      ]
     },
     "execution_count": 898,
     "metadata": {},
     "output_type": "execute_result"
    }
   ],
   "source": [
    "data['age'].skew()"
   ]
  },
  {
   "cell_type": "code",
   "execution_count": 899,
   "id": "b565f196",
   "metadata": {},
   "outputs": [
    {
     "name": "stdout",
     "output_type": "stream",
     "text": [
      "<class 'pandas.core.frame.DataFrame'>\n",
      "RangeIndex: 54808 entries, 0 to 54807\n",
      "Data columns (total 14 columns):\n",
      " #   Column                Non-Null Count  Dtype  \n",
      "---  ------                --------------  -----  \n",
      " 0   employee_id           54808 non-null  int64  \n",
      " 1   department            54808 non-null  object \n",
      " 2   region                54808 non-null  object \n",
      " 3   education             54808 non-null  object \n",
      " 4   gender                54808 non-null  int64  \n",
      " 5   recruitment_channel   54808 non-null  object \n",
      " 6   no_of_trainings       54808 non-null  int64  \n",
      " 7   age                   54808 non-null  float64\n",
      " 8   previous_year_rating  54808 non-null  float64\n",
      " 9   length_of_service     54808 non-null  int64  \n",
      " 10  KPIs_met >80%         54808 non-null  int64  \n",
      " 11  awards_won?           54808 non-null  int64  \n",
      " 12  avg_training_score    54808 non-null  int64  \n",
      " 13  is_promoted           54808 non-null  int64  \n",
      "dtypes: float64(2), int64(8), object(4)\n",
      "memory usage: 5.9+ MB\n"
     ]
    }
   ],
   "source": [
    "data.info()"
   ]
  },
  {
   "cell_type": "markdown",
   "id": "687f2aae",
   "metadata": {},
   "source": [
    "# Feature Engineering"
   ]
  },
  {
   "cell_type": "code",
   "execution_count": 900,
   "id": "d279032f",
   "metadata": {},
   "outputs": [],
   "source": [
    "from sklearn.preprocessing import LabelEncoder\n",
    "LE = LabelEncoder()\n",
    "cate_features = list(data.select_dtypes(include='object').columns)\n",
    "for i in cate_features:\n",
    "    data[i] = LE.fit_transform(data[i])"
   ]
  },
  {
   "cell_type": "code",
   "execution_count": 901,
   "id": "8fcfd04a",
   "metadata": {},
   "outputs": [
    {
     "data": {
      "text/plain": [
       "employee_id               int64\n",
       "department                int32\n",
       "region                    int32\n",
       "education                 int32\n",
       "gender                    int64\n",
       "recruitment_channel       int32\n",
       "no_of_trainings           int64\n",
       "age                     float64\n",
       "previous_year_rating    float64\n",
       "length_of_service         int64\n",
       "KPIs_met >80%             int64\n",
       "awards_won?               int64\n",
       "avg_training_score        int64\n",
       "is_promoted               int64\n",
       "dtype: object"
      ]
     },
     "execution_count": 901,
     "metadata": {},
     "output_type": "execute_result"
    }
   ],
   "source": [
    "data.dtypes"
   ]
  },
  {
   "cell_type": "code",
   "execution_count": 902,
   "id": "d4cd160e",
   "metadata": {},
   "outputs": [],
   "source": [
    "#dummy1=pd.get_dummies(data['recruitment_channel'])\n",
    "#data = data.join(dummy1)\n",
    "#data.drop('recruitment_channel',axis=1,inplace=True)"
   ]
  },
  {
   "cell_type": "code",
   "execution_count": 903,
   "id": "123710a8",
   "metadata": {},
   "outputs": [],
   "source": [
    "#dummy1=pd.get_dummies(data['department'])\n",
    "#data = data.join(dummy1)\n",
    "#data.drop('department',axis=1,inplace=True)"
   ]
  },
  {
   "cell_type": "code",
   "execution_count": 904,
   "id": "69b9f30a",
   "metadata": {},
   "outputs": [],
   "source": [
    "#dummy1=pd.get_dummies(data['region'])\n",
    "#data = data.join(dummy1)\n",
    "#data.drop('region',axis=1,inplace=True)"
   ]
  },
  {
   "cell_type": "code",
   "execution_count": 905,
   "id": "8e655c2a",
   "metadata": {},
   "outputs": [],
   "source": [
    "#dummy1=pd.get_dummies(data['education'])\n",
    "#data = data.join(dummy1)\n",
    "#data.drop('education',axis=1,inplace=True)"
   ]
  },
  {
   "cell_type": "markdown",
   "id": "71569480",
   "metadata": {},
   "source": [
    "# Train Test Split"
   ]
  },
  {
   "cell_type": "markdown",
   "id": "83f21e05",
   "metadata": {},
   "source": [
    "### Spliting Target Features"
   ]
  },
  {
   "cell_type": "code",
   "execution_count": 906,
   "id": "0e961d4b",
   "metadata": {},
   "outputs": [],
   "source": [
    "x = data.drop(columns=['employee_id','is_promoted'])\n",
    "y = data['is_promoted']"
   ]
  },
  {
   "cell_type": "code",
   "execution_count": 907,
   "id": "a50a1b12",
   "metadata": {},
   "outputs": [
    {
     "name": "stdout",
     "output_type": "stream",
     "text": [
      "Training Records : 38365\n",
      "Testing Records : 16443\n"
     ]
    }
   ],
   "source": [
    "from sklearn.model_selection import train_test_split\n",
    "x_train,x_test,y_train,y_test = train_test_split(x,y,test_size=0.30,random_state=9)\n",
    "print(f'Training Records : {x_train.shape[0]}\\nTesting Records : {x_test.shape[0]}')"
   ]
  },
  {
   "cell_type": "code",
   "execution_count": 908,
   "id": "aaf499d9",
   "metadata": {},
   "outputs": [
    {
     "data": {
      "text/plain": [
       "employee_id               int64\n",
       "department                int32\n",
       "region                    int32\n",
       "education                 int32\n",
       "gender                    int64\n",
       "recruitment_channel       int32\n",
       "no_of_trainings           int64\n",
       "age                     float64\n",
       "previous_year_rating    float64\n",
       "length_of_service         int64\n",
       "KPIs_met >80%             int64\n",
       "awards_won?               int64\n",
       "avg_training_score        int64\n",
       "is_promoted               int64\n",
       "dtype: object"
      ]
     },
     "execution_count": 908,
     "metadata": {},
     "output_type": "execute_result"
    }
   ],
   "source": [
    "data.dtypes"
   ]
  },
  {
   "cell_type": "markdown",
   "id": "6ee26e72",
   "metadata": {},
   "source": [
    "# Feature Selection"
   ]
  },
  {
   "cell_type": "code",
   "execution_count": 909,
   "id": "cfeb224c",
   "metadata": {},
   "outputs": [],
   "source": [
    "from sklearn.ensemble import RandomForestClassifier\n",
    "def feature_selection(x_train,y_train):\n",
    "    model = RandomForestClassifier()\n",
    "    model.fit(x_train,y_train)\n",
    "    get_importance = model.feature_importances_\n",
    "    important_feature = pd.DataFrame({\"Features\" : x_train.columns,\"Feature Importances\" : get_importance*100})\n",
    "    important_feature.set_index('Feature Importances')\n",
    "    return important_feature"
   ]
  },
  {
   "cell_type": "code",
   "execution_count": 910,
   "id": "7bc5b833",
   "metadata": {},
   "outputs": [
    {
     "data": {
      "text/html": [
       "<style type=\"text/css\">\n",
       "#T_666ae_row0_col1 {\n",
       "  background-color: #b40426;\n",
       "  color: #f1f1f1;\n",
       "}\n",
       "#T_666ae_row1_col1 {\n",
       "  background-color: #cad8ef;\n",
       "  color: #000000;\n",
       "}\n",
       "#T_666ae_row2_col1 {\n",
       "  background-color: #b5cdfa;\n",
       "  color: #000000;\n",
       "}\n",
       "#T_666ae_row3_col1 {\n",
       "  background-color: #98b9ff;\n",
       "  color: #000000;\n",
       "}\n",
       "#T_666ae_row4_col1 {\n",
       "  background-color: #96b7ff;\n",
       "  color: #000000;\n",
       "}\n",
       "#T_666ae_row5_col1 {\n",
       "  background-color: #5e7de7;\n",
       "  color: #f1f1f1;\n",
       "}\n",
       "#T_666ae_row6_col1 {\n",
       "  background-color: #5470de;\n",
       "  color: #f1f1f1;\n",
       "}\n",
       "#T_666ae_row7_col1 {\n",
       "  background-color: #4358cb;\n",
       "  color: #f1f1f1;\n",
       "}\n",
       "#T_666ae_row8_col1 {\n",
       "  background-color: #4257c9;\n",
       "  color: #f1f1f1;\n",
       "}\n",
       "#T_666ae_row9_col1 {\n",
       "  background-color: #3c4ec2;\n",
       "  color: #f1f1f1;\n",
       "}\n",
       "#T_666ae_row10_col1, #T_666ae_row11_col1 {\n",
       "  background-color: #3b4cc0;\n",
       "  color: #f1f1f1;\n",
       "}\n",
       "</style>\n",
       "<table id=\"T_666ae\">\n",
       "  <thead>\n",
       "    <tr>\n",
       "      <th class=\"blank level0\" >&nbsp;</th>\n",
       "      <th id=\"T_666ae_level0_col0\" class=\"col_heading level0 col0\" >Features</th>\n",
       "      <th id=\"T_666ae_level0_col1\" class=\"col_heading level0 col1\" >Feature Importances</th>\n",
       "    </tr>\n",
       "  </thead>\n",
       "  <tbody>\n",
       "    <tr>\n",
       "      <th id=\"T_666ae_level0_row0\" class=\"row_heading level0 row0\" >11</th>\n",
       "      <td id=\"T_666ae_row0_col0\" class=\"data row0 col0\" >avg_training_score</td>\n",
       "      <td id=\"T_666ae_row0_col1\" class=\"data row0 col1\" >29.444222</td>\n",
       "    </tr>\n",
       "    <tr>\n",
       "      <th id=\"T_666ae_level0_row1\" class=\"row_heading level0 row1\" >6</th>\n",
       "      <td id=\"T_666ae_row1_col0\" class=\"data row1 col0\" >age</td>\n",
       "      <td id=\"T_666ae_row1_col1\" class=\"data row1 col1\" >14.105934</td>\n",
       "    </tr>\n",
       "    <tr>\n",
       "      <th id=\"T_666ae_level0_row2\" class=\"row_heading level0 row2\" >1</th>\n",
       "      <td id=\"T_666ae_row2_col0\" class=\"data row2 col0\" >region</td>\n",
       "      <td id=\"T_666ae_row2_col1\" class=\"data row2 col1\" >12.279263</td>\n",
       "    </tr>\n",
       "    <tr>\n",
       "      <th id=\"T_666ae_level0_row3\" class=\"row_heading level0 row3\" >8</th>\n",
       "      <td id=\"T_666ae_row3_col0\" class=\"data row3 col0\" >length_of_service</td>\n",
       "      <td id=\"T_666ae_row3_col1\" class=\"data row3 col1\" >10.126543</td>\n",
       "    </tr>\n",
       "    <tr>\n",
       "      <th id=\"T_666ae_level0_row4\" class=\"row_heading level0 row4\" >0</th>\n",
       "      <td id=\"T_666ae_row4_col0\" class=\"data row4 col0\" >department</td>\n",
       "      <td id=\"T_666ae_row4_col1\" class=\"data row4 col1\" >9.912844</td>\n",
       "    </tr>\n",
       "    <tr>\n",
       "      <th id=\"T_666ae_level0_row5\" class=\"row_heading level0 row5\" >7</th>\n",
       "      <td id=\"T_666ae_row5_col0\" class=\"data row5 col0\" >previous_year_rating</td>\n",
       "      <td id=\"T_666ae_row5_col1\" class=\"data row5 col1\" >5.546215</td>\n",
       "    </tr>\n",
       "    <tr>\n",
       "      <th id=\"T_666ae_level0_row6\" class=\"row_heading level0 row6\" >9</th>\n",
       "      <td id=\"T_666ae_row6_col0\" class=\"data row6 col0\" >KPIs_met >80%</td>\n",
       "      <td id=\"T_666ae_row6_col1\" class=\"data row6 col1\" >4.727416</td>\n",
       "    </tr>\n",
       "    <tr>\n",
       "      <th id=\"T_666ae_level0_row7\" class=\"row_heading level0 row7\" >4</th>\n",
       "      <td id=\"T_666ae_row7_col0\" class=\"data row7 col0\" >recruitment_channel</td>\n",
       "      <td id=\"T_666ae_row7_col1\" class=\"data row7 col1\" >3.263170</td>\n",
       "    </tr>\n",
       "    <tr>\n",
       "      <th id=\"T_666ae_level0_row8\" class=\"row_heading level0 row8\" >10</th>\n",
       "      <td id=\"T_666ae_row8_col0\" class=\"data row8 col0\" >awards_won?</td>\n",
       "      <td id=\"T_666ae_row8_col1\" class=\"data row8 col1\" >3.086739</td>\n",
       "    </tr>\n",
       "    <tr>\n",
       "      <th id=\"T_666ae_level0_row9\" class=\"row_heading level0 row9\" >5</th>\n",
       "      <td id=\"T_666ae_row9_col0\" class=\"data row9 col0\" >no_of_trainings</td>\n",
       "      <td id=\"T_666ae_row9_col1\" class=\"data row9 col1\" >2.597047</td>\n",
       "    </tr>\n",
       "    <tr>\n",
       "      <th id=\"T_666ae_level0_row10\" class=\"row_heading level0 row10\" >3</th>\n",
       "      <td id=\"T_666ae_row10_col0\" class=\"data row10 col0\" >gender</td>\n",
       "      <td id=\"T_666ae_row10_col1\" class=\"data row10 col1\" >2.478014</td>\n",
       "    </tr>\n",
       "    <tr>\n",
       "      <th id=\"T_666ae_level0_row11\" class=\"row_heading level0 row11\" >2</th>\n",
       "      <td id=\"T_666ae_row11_col0\" class=\"data row11 col0\" >education</td>\n",
       "      <td id=\"T_666ae_row11_col1\" class=\"data row11 col1\" >2.432593</td>\n",
       "    </tr>\n",
       "  </tbody>\n",
       "</table>\n"
      ],
      "text/plain": [
       "<pandas.io.formats.style.Styler at 0x13e17075130>"
      ]
     },
     "execution_count": 910,
     "metadata": {},
     "output_type": "execute_result"
    }
   ],
   "source": [
    "important_feature = feature_selection(x_train,y_train)\n",
    "important_feature.sort_values(by='Feature Importances',ascending=False).style.background_gradient(cmap='coolwarm')"
   ]
  },
  {
   "cell_type": "code",
   "execution_count": 911,
   "id": "5a692153",
   "metadata": {},
   "outputs": [
    {
     "data": {
      "image/png": "[encoded data removed]",
      "text/plain": [
       "<Figure size 432x288 with 1 Axes>"
      ]
     },
     "metadata": {
      "needs_background": "light"
     },
     "output_type": "display_data"
    },
    {
     "data": {
      "image/png": "[encoded data removed]",
      "text/plain": [
       "<Figure size 432x288 with 1 Axes>"
      ]
     },
     "metadata": {
      "needs_background": "light"
     },
     "output_type": "display_data"
    },
    {
     "data": {
      "image/png": "[encoded data removed]",
      "text/plain": [
       "<Figure size 432x288 with 1 Axes>"
      ]
     },
     "metadata": {
      "needs_background": "light"
     },
     "output_type": "display_data"
    },
    {
     "data": {
      "image/png": "[encoded data removed]",
      "text/plain": [
       "<Figure size 432x288 with 1 Axes>"
      ]
     },
     "metadata": {
      "needs_background": "light"
     },
     "output_type": "display_data"
    },
    {
     "data": {
      "image/png": "[encoded data removed]",
      "text/plain": [
       "<Figure size 432x288 with 1 Axes>"
      ]
     },
     "metadata": {
      "needs_background": "light"
     },
     "output_type": "display_data"
    },
    {
     "data": {
      "image/png": "[encoded data removed]",
      "text/plain": [
       "<Figure size 432x288 with 1 Axes>"
      ]
     },
     "metadata": {
      "needs_background": "light"
     },
     "output_type": "display_data"
    },
    {
     "data": {
      "image/png": "[encoded data removed]",
      "text/plain": [
       "<Figure size 432x288 with 1 Axes>"
      ]
     },
     "metadata": {
      "needs_background": "light"
     },
     "output_type": "display_data"
    },
    {
     "data": {
      "image/png": "[encoded data removed]",
      "text/plain": [
       "<Figure size 432x288 with 1 Axes>"
      ]
     },
     "metadata": {
      "needs_background": "light"
     },
     "output_type": "display_data"
    },
    {
     "data": {
      "image/png": "[encoded data removed]",
      "text/plain": [
       "<Figure size 432x288 with 1 Axes>"
      ]
     },
     "metadata": {
      "needs_background": "light"
     },
     "output_type": "display_data"
    },
    {
     "data": {
      "image/png": "[encoded data removed]",
      "text/plain": [
       "<Figure size 432x288 with 1 Axes>"
      ]
     },
     "metadata": {
      "needs_background": "light"
     },
     "output_type": "display_data"
    },
    {
     "data": {
      "image/png": "[encoded data removed]",
      "text/plain": [
       "<Figure size 432x288 with 1 Axes>"
      ]
     },
     "metadata": {
      "needs_background": "light"
     },
     "output_type": "display_data"
    },
    {
     "data": {
      "image/png": "[encoded data removed]",
      "text/plain": [
       "<Figure size 432x288 with 1 Axes>"
      ]
     },
     "metadata": {
      "needs_background": "light"
     },
     "output_type": "display_data"
    }
   ],
   "source": [
    "for i in x_train.columns:\n",
    "    plt.subplots()\n",
    "    sns.boxplot(x_train[i])"
   ]
  },
  {
   "cell_type": "markdown",
   "id": "010d4cf4",
   "metadata": {},
   "source": [
    "# Feature Scalling"
   ]
  },
  {
   "cell_type": "code",
   "execution_count": 912,
   "id": "5748f873",
   "metadata": {},
   "outputs": [],
   "source": [
    "from sklearn.preprocessing import StandardScaler\n",
    "Ms = StandardScaler()\n",
    "x_train = Ms.fit_transform(x_train)\n",
    "x_test = Ms.transform(x_test)"
   ]
  },
  {
   "cell_type": "code",
   "execution_count": 913,
   "id": "19d88ef7",
   "metadata": {},
   "outputs": [
    {
     "data": {
      "text/plain": [
       "array([[ 1.20523345,  1.55315528, -0.68408592, ..., -0.74105474,\n",
       "        -0.15595887,  0.94200964],\n",
       "       [-0.387587  , -0.15988363,  1.29025819, ..., -0.74105474,\n",
       "        -0.15595887, -0.6992279 ],\n",
       "       [ 0.80702834,  1.43895269, -0.68408592, ..., -0.74105474,\n",
       "        -0.15595887, -0.99763473],\n",
       "       ...,\n",
       "       [ 0.01061811, -0.50249142, -0.68408592, ..., -0.74105474,\n",
       "        -0.15595887,  0.64360282],\n",
       "       [ 0.80702834, -1.41611217, -0.68408592, ...,  1.34942798,\n",
       "        -0.15595887, -0.99763473],\n",
       "       [-1.98040746,  0.63953453, -0.68408592, ..., -0.74105474,\n",
       "        -0.15595887,  1.38961988]])"
      ]
     },
     "execution_count": 913,
     "metadata": {},
     "output_type": "execute_result"
    }
   ],
   "source": [
    "x_train"
   ]
  },
  {
   "cell_type": "markdown",
   "id": "671969b8",
   "metadata": {},
   "source": [
    "# Logistic Regression Model Building"
   ]
  },
  {
   "cell_type": "code",
   "execution_count": 914,
   "id": "b24ccc86",
   "metadata": {},
   "outputs": [
    {
     "data": {
      "text/plain": [
       "LogisticRegression()"
      ]
     },
     "execution_count": 914,
     "metadata": {},
     "output_type": "execute_result"
    }
   ],
   "source": [
    "from sklearn.linear_model import LogisticRegression\n",
    "LR = LogisticRegression()\n",
    "LR.fit(x_train,y_train)"
   ]
  },
  {
   "cell_type": "markdown",
   "id": "9f9cd74b",
   "metadata": {},
   "source": [
    "##### Prediction"
   ]
  },
  {
   "cell_type": "code",
   "execution_count": 915,
   "id": "61fde70a",
   "metadata": {},
   "outputs": [],
   "source": [
    "y_pred = LR.predict(x_test)"
   ]
  },
  {
   "cell_type": "code",
   "execution_count": 916,
   "id": "85862b61",
   "metadata": {},
   "outputs": [
    {
     "data": {
      "text/plain": [
       "array([0, 0, 0, ..., 0, 0, 0], dtype=int64)"
      ]
     },
     "execution_count": 916,
     "metadata": {},
     "output_type": "execute_result"
    }
   ],
   "source": [
    "y_pred"
   ]
  },
  {
   "cell_type": "markdown",
   "id": "c9fd25e4",
   "metadata": {},
   "source": [
    "# Model Metrices"
   ]
  },
  {
   "cell_type": "markdown",
   "id": "dc4dfdd5",
   "metadata": {},
   "source": [
    "##### Accuracy Score"
   ]
  },
  {
   "cell_type": "code",
   "execution_count": 917,
   "id": "dbf7f8a1",
   "metadata": {},
   "outputs": [
    {
     "data": {
      "text/plain": [
       "91.64994222465486"
      ]
     },
     "execution_count": 917,
     "metadata": {},
     "output_type": "execute_result"
    }
   ],
   "source": [
    "from sklearn.metrics import accuracy_score\n",
    "accuracy_score(y_pred,y_test)*100"
   ]
  },
  {
   "cell_type": "markdown",
   "id": "d53042bc",
   "metadata": {},
   "source": [
    "##### Classification Report"
   ]
  },
  {
   "cell_type": "code",
   "execution_count": 918,
   "id": "fbb5ffa1",
   "metadata": {},
   "outputs": [
    {
     "name": "stdout",
     "output_type": "stream",
     "text": [
      "              precision    recall  f1-score   support\n",
      "\n",
      "           0       1.00      0.92      0.96     16316\n",
      "           1       0.06      0.61      0.10       127\n",
      "\n",
      "    accuracy                           0.92     16443\n",
      "   macro avg       0.53      0.76      0.53     16443\n",
      "weighted avg       0.99      0.92      0.95     16443\n",
      "\n"
     ]
    }
   ],
   "source": [
    "from sklearn.metrics import classification_report,confusion_matrix,roc_auc_score,roc_curve\n",
    "pred_report = classification_report(y_pred,y_test)\n",
    "print(pred_report)"
   ]
  },
  {
   "cell_type": "markdown",
   "id": "7fb019fb",
   "metadata": {},
   "source": [
    "##### Confusion Matrix"
   ]
  },
  {
   "cell_type": "code",
   "execution_count": 919,
   "id": "e8879de3",
   "metadata": {},
   "outputs": [
    {
     "data": {
      "text/plain": [
       "<AxesSubplot:>"
      ]
     },
     "execution_count": 919,
     "metadata": {},
     "output_type": "execute_result"
    },
    {
     "data": {
      "image/png": "[encoded data removed]",
      "text/plain": [
       "<Figure size 432x288 with 2 Axes>"
      ]
     },
     "metadata": {
      "needs_background": "light"
     },
     "output_type": "display_data"
    }
   ],
   "source": [
    "sns.heatmap(confusion_matrix(y_test,y_pred),annot=True,linewidths=0.2,linecolor='black',cmap='coolwarm')"
   ]
  },
  {
   "cell_type": "markdown",
   "id": "93d7f776",
   "metadata": {},
   "source": [
    "### AUC - Curve"
   ]
  },
  {
   "cell_type": "code",
   "execution_count": 920,
   "id": "e2507d93",
   "metadata": {},
   "outputs": [
    {
     "data": {
      "image/png": "[encoded data removed]",
      "text/plain": [
       "<Figure size 1080x504 with 1 Axes>"
      ]
     },
     "metadata": {
      "needs_background": "light"
     },
     "output_type": "display_data"
    }
   ],
   "source": [
    "auc = roc_auc_score(y_test,y_pred)\n",
    "fp_rate,tp_rate,thresholds = roc_curve(y_test,y_pred)\n",
    "plt.figure(figsize=(15,7))\n",
    "plt.axis('scaled')\n",
    "plt.xlim([0, 1])\n",
    "plt.ylim([0, 1])\n",
    "plt.title(\"AUC & ROC Curve\")\n",
    "plt.plot(fp_rate, tp_rate, 'b')\n",
    "plt.fill_between(fp_rate, tp_rate, facecolor='blue', alpha=0.7)\n",
    "plt.text(0.95, 0.05, 'AUC = %0.4f' % auc, ha='right', fontsize=12, weight='bold', color='black')\n",
    "plt.xlabel(\"False Positive Rate\")\n",
    "plt.ylabel(\"True Positive Rate\")\n",
    "plt.show()"
   ]
  },
  {
   "cell_type": "code",
   "execution_count": 921,
   "id": "fc7f652b",
   "metadata": {},
   "outputs": [
    {
     "data": {
      "text/plain": [
       "0.5258380974539653"
      ]
     },
     "execution_count": 921,
     "metadata": {},
     "output_type": "execute_result"
    }
   ],
   "source": [
    "roc_auc_score(y_test,y_pred)"
   ]
  },
  {
   "cell_type": "markdown",
   "id": "e139d1fa",
   "metadata": {},
   "source": [
    "# Working With Testing DataSet"
   ]
  },
  {
   "cell_type": "code",
   "execution_count": 922,
   "id": "8ee90377",
   "metadata": {},
   "outputs": [
    {
     "data": {
      "text/html": [
       "<div>\n",
       "<style scoped>\n",
       "    .dataframe tbody tr th:only-of-type {\n",
       "        vertical-align: middle;\n",
       "    }\n",
       "\n",
       "    .dataframe tbody tr th {\n",
       "        vertical-align: top;\n",
       "    }\n",
       "\n",
       "    .dataframe thead th {\n",
       "        text-align: right;\n",
       "    }\n",
       "</style>\n",
       "<table border=\"1\" class=\"dataframe\">\n",
       "  <thead>\n",
       "    <tr style=\"text-align: right;\">\n",
       "      <th></th>\n",
       "      <th>employee_id</th>\n",
       "      <th>department</th>\n",
       "      <th>region</th>\n",
       "      <th>education</th>\n",
       "      <th>gender</th>\n",
       "      <th>recruitment_channel</th>\n",
       "      <th>no_of_trainings</th>\n",
       "      <th>age</th>\n",
       "      <th>previous_year_rating</th>\n",
       "      <th>length_of_service</th>\n",
       "      <th>KPIs_met &gt;80%</th>\n",
       "      <th>awards_won?</th>\n",
       "      <th>avg_training_score</th>\n",
       "    </tr>\n",
       "  </thead>\n",
       "  <tbody>\n",
       "    <tr>\n",
       "      <th>0</th>\n",
       "      <td>8724</td>\n",
       "      <td>Technology</td>\n",
       "      <td>region_26</td>\n",
       "      <td>Bachelor's</td>\n",
       "      <td>m</td>\n",
       "      <td>sourcing</td>\n",
       "      <td>1</td>\n",
       "      <td>24</td>\n",
       "      <td>NaN</td>\n",
       "      <td>1</td>\n",
       "      <td>1</td>\n",
       "      <td>0</td>\n",
       "      <td>77</td>\n",
       "    </tr>\n",
       "    <tr>\n",
       "      <th>1</th>\n",
       "      <td>74430</td>\n",
       "      <td>HR</td>\n",
       "      <td>region_4</td>\n",
       "      <td>Bachelor's</td>\n",
       "      <td>f</td>\n",
       "      <td>other</td>\n",
       "      <td>1</td>\n",
       "      <td>31</td>\n",
       "      <td>3.0</td>\n",
       "      <td>5</td>\n",
       "      <td>0</td>\n",
       "      <td>0</td>\n",
       "      <td>51</td>\n",
       "    </tr>\n",
       "    <tr>\n",
       "      <th>2</th>\n",
       "      <td>72255</td>\n",
       "      <td>Sales &amp; Marketing</td>\n",
       "      <td>region_13</td>\n",
       "      <td>Bachelor's</td>\n",
       "      <td>m</td>\n",
       "      <td>other</td>\n",
       "      <td>1</td>\n",
       "      <td>31</td>\n",
       "      <td>1.0</td>\n",
       "      <td>4</td>\n",
       "      <td>0</td>\n",
       "      <td>0</td>\n",
       "      <td>47</td>\n",
       "    </tr>\n",
       "    <tr>\n",
       "      <th>3</th>\n",
       "      <td>38562</td>\n",
       "      <td>Procurement</td>\n",
       "      <td>region_2</td>\n",
       "      <td>Bachelor's</td>\n",
       "      <td>f</td>\n",
       "      <td>other</td>\n",
       "      <td>3</td>\n",
       "      <td>31</td>\n",
       "      <td>2.0</td>\n",
       "      <td>9</td>\n",
       "      <td>0</td>\n",
       "      <td>0</td>\n",
       "      <td>65</td>\n",
       "    </tr>\n",
       "    <tr>\n",
       "      <th>4</th>\n",
       "      <td>64486</td>\n",
       "      <td>Finance</td>\n",
       "      <td>region_29</td>\n",
       "      <td>Bachelor's</td>\n",
       "      <td>m</td>\n",
       "      <td>sourcing</td>\n",
       "      <td>1</td>\n",
       "      <td>30</td>\n",
       "      <td>4.0</td>\n",
       "      <td>7</td>\n",
       "      <td>0</td>\n",
       "      <td>0</td>\n",
       "      <td>61</td>\n",
       "    </tr>\n",
       "  </tbody>\n",
       "</table>\n",
       "</div>"
      ],
      "text/plain": [
       "   employee_id         department     region   education gender  \\\n",
       "0         8724         Technology  region_26  Bachelor's      m   \n",
       "1        74430                 HR   region_4  Bachelor's      f   \n",
       "2        72255  Sales & Marketing  region_13  Bachelor's      m   \n",
       "3        38562        Procurement   region_2  Bachelor's      f   \n",
       "4        64486            Finance  region_29  Bachelor's      m   \n",
       "\n",
       "  recruitment_channel  no_of_trainings  age  previous_year_rating  \\\n",
       "0            sourcing                1   24                   NaN   \n",
       "1               other                1   31                   3.0   \n",
       "2               other                1   31                   1.0   \n",
       "3               other                3   31                   2.0   \n",
       "4            sourcing                1   30                   4.0   \n",
       "\n",
       "   length_of_service  KPIs_met >80%  awards_won?  avg_training_score  \n",
       "0                  1              1            0                  77  \n",
       "1                  5              0            0                  51  \n",
       "2                  4              0            0                  47  \n",
       "3                  9              0            0                  65  \n",
       "4                  7              0            0                  61  "
      ]
     },
     "execution_count": 922,
     "metadata": {},
     "output_type": "execute_result"
    }
   ],
   "source": [
    "test_data = pd.read_csv('DataSet/test (1).csv')\n",
    "test_data.head(5)"
   ]
  },
  {
   "cell_type": "code",
   "execution_count": 923,
   "id": "6bfb8a90",
   "metadata": {},
   "outputs": [
    {
     "name": "stdout",
     "output_type": "stream",
     "text": [
      "Records:23490\n",
      "Features:13\n"
     ]
    }
   ],
   "source": [
    "print(f'Records:{test_data.shape[0]}\\nFeatures:{test_data.shape[1]}')"
   ]
  },
  {
   "cell_type": "markdown",
   "id": "e39eff2b",
   "metadata": {},
   "source": [
    "# Data Cleaning - Test Data"
   ]
  },
  {
   "cell_type": "code",
   "execution_count": 924,
   "id": "61292c91",
   "metadata": {},
   "outputs": [
    {
     "data": {
      "text/plain": [
       "employee_id             False\n",
       "department              False\n",
       "region                  False\n",
       "education                True\n",
       "gender                  False\n",
       "recruitment_channel     False\n",
       "no_of_trainings         False\n",
       "age                     False\n",
       "previous_year_rating     True\n",
       "length_of_service       False\n",
       "KPIs_met >80%           False\n",
       "awards_won?             False\n",
       "avg_training_score      False\n",
       "dtype: bool"
      ]
     },
     "execution_count": 924,
     "metadata": {},
     "output_type": "execute_result"
    }
   ],
   "source": [
    "#Checking for Null Values\n",
    "test_data.isna().any()"
   ]
  },
  {
   "cell_type": "code",
   "execution_count": 925,
   "id": "deeccf9d",
   "metadata": {},
   "outputs": [
    {
     "data": {
      "text/html": [
       "<style type=\"text/css\">\n",
       "#T_338f2_row0_col0, #T_338f2_row1_col0, #T_338f2_row2_col0, #T_338f2_row4_col0, #T_338f2_row5_col0, #T_338f2_row6_col0, #T_338f2_row7_col0, #T_338f2_row9_col0, #T_338f2_row10_col0, #T_338f2_row11_col0, #T_338f2_row12_col0 {\n",
       "  background-color: #3b4cc0;\n",
       "  color: #f1f1f1;\n",
       "}\n",
       "#T_338f2_row3_col0 {\n",
       "  background-color: #edd1c2;\n",
       "  color: #000000;\n",
       "}\n",
       "#T_338f2_row8_col0 {\n",
       "  background-color: #b40426;\n",
       "  color: #f1f1f1;\n",
       "}\n",
       "</style>\n",
       "<table id=\"T_338f2\">\n",
       "  <thead>\n",
       "    <tr>\n",
       "      <th class=\"blank level0\" >&nbsp;</th>\n",
       "      <th id=\"T_338f2_level0_col0\" class=\"col_heading level0 col0\" >Percentage</th>\n",
       "    </tr>\n",
       "  </thead>\n",
       "  <tbody>\n",
       "    <tr>\n",
       "      <th id=\"T_338f2_level0_row0\" class=\"row_heading level0 row0\" >employee_id</th>\n",
       "      <td id=\"T_338f2_row0_col0\" class=\"data row0 col0\" >0.000000</td>\n",
       "    </tr>\n",
       "    <tr>\n",
       "      <th id=\"T_338f2_level0_row1\" class=\"row_heading level0 row1\" >department</th>\n",
       "      <td id=\"T_338f2_row1_col0\" class=\"data row1 col0\" >0.000000</td>\n",
       "    </tr>\n",
       "    <tr>\n",
       "      <th id=\"T_338f2_level0_row2\" class=\"row_heading level0 row2\" >region</th>\n",
       "      <td id=\"T_338f2_row2_col0\" class=\"data row2 col0\" >0.000000</td>\n",
       "    </tr>\n",
       "    <tr>\n",
       "      <th id=\"T_338f2_level0_row3\" class=\"row_heading level0 row3\" >education</th>\n",
       "      <td id=\"T_338f2_row3_col0\" class=\"data row3 col0\" >4.401873</td>\n",
       "    </tr>\n",
       "    <tr>\n",
       "      <th id=\"T_338f2_level0_row4\" class=\"row_heading level0 row4\" >gender</th>\n",
       "      <td id=\"T_338f2_row4_col0\" class=\"data row4 col0\" >0.000000</td>\n",
       "    </tr>\n",
       "    <tr>\n",
       "      <th id=\"T_338f2_level0_row5\" class=\"row_heading level0 row5\" >recruitment_channel</th>\n",
       "      <td id=\"T_338f2_row5_col0\" class=\"data row5 col0\" >0.000000</td>\n",
       "    </tr>\n",
       "    <tr>\n",
       "      <th id=\"T_338f2_level0_row6\" class=\"row_heading level0 row6\" >no_of_trainings</th>\n",
       "      <td id=\"T_338f2_row6_col0\" class=\"data row6 col0\" >0.000000</td>\n",
       "    </tr>\n",
       "    <tr>\n",
       "      <th id=\"T_338f2_level0_row7\" class=\"row_heading level0 row7\" >age</th>\n",
       "      <td id=\"T_338f2_row7_col0\" class=\"data row7 col0\" >0.000000</td>\n",
       "    </tr>\n",
       "    <tr>\n",
       "      <th id=\"T_338f2_level0_row8\" class=\"row_heading level0 row8\" >previous_year_rating</th>\n",
       "      <td id=\"T_338f2_row8_col0\" class=\"data row8 col0\" >7.713921</td>\n",
       "    </tr>\n",
       "    <tr>\n",
       "      <th id=\"T_338f2_level0_row9\" class=\"row_heading level0 row9\" >length_of_service</th>\n",
       "      <td id=\"T_338f2_row9_col0\" class=\"data row9 col0\" >0.000000</td>\n",
       "    </tr>\n",
       "    <tr>\n",
       "      <th id=\"T_338f2_level0_row10\" class=\"row_heading level0 row10\" >KPIs_met >80%</th>\n",
       "      <td id=\"T_338f2_row10_col0\" class=\"data row10 col0\" >0.000000</td>\n",
       "    </tr>\n",
       "    <tr>\n",
       "      <th id=\"T_338f2_level0_row11\" class=\"row_heading level0 row11\" >awards_won?</th>\n",
       "      <td id=\"T_338f2_row11_col0\" class=\"data row11 col0\" >0.000000</td>\n",
       "    </tr>\n",
       "    <tr>\n",
       "      <th id=\"T_338f2_level0_row12\" class=\"row_heading level0 row12\" >avg_training_score</th>\n",
       "      <td id=\"T_338f2_row12_col0\" class=\"data row12 col0\" >0.000000</td>\n",
       "    </tr>\n",
       "  </tbody>\n",
       "</table>\n"
      ],
      "text/plain": [
       "<pandas.io.formats.style.Styler at 0x13e181dc8e0>"
      ]
     },
     "execution_count": 925,
     "metadata": {},
     "output_type": "execute_result"
    }
   ],
   "source": [
    "ms_test_data = pd.DataFrame({'Percentage':(test_data.isna().sum() / len(test_data)) *100},index=test_data.columns)\n",
    "ms_test_data.style.background_gradient(cmap='coolwarm')"
   ]
  },
  {
   "cell_type": "code",
   "execution_count": 926,
   "id": "d0ea3c01",
   "metadata": {},
   "outputs": [],
   "source": [
    "test_data = test_data.dropna()"
   ]
  },
  {
   "cell_type": "code",
   "execution_count": 927,
   "id": "a40872cb",
   "metadata": {},
   "outputs": [
    {
     "data": {
      "text/plain": [
       "employee_id             False\n",
       "department              False\n",
       "region                  False\n",
       "education               False\n",
       "gender                  False\n",
       "recruitment_channel     False\n",
       "no_of_trainings         False\n",
       "age                     False\n",
       "previous_year_rating    False\n",
       "length_of_service       False\n",
       "KPIs_met >80%           False\n",
       "awards_won?             False\n",
       "avg_training_score      False\n",
       "dtype: bool"
      ]
     },
     "execution_count": 927,
     "metadata": {},
     "output_type": "execute_result"
    }
   ],
   "source": [
    "test_data.isna().any()"
   ]
  },
  {
   "cell_type": "markdown",
   "id": "3e7bf6eb",
   "metadata": {},
   "source": [
    "# Feature Scalling"
   ]
  },
  {
   "cell_type": "code",
   "execution_count": 928,
   "id": "a690376e",
   "metadata": {},
   "outputs": [],
   "source": [
    "gender_binarization(test_data,'gender')"
   ]
  },
  {
   "cell_type": "code",
   "execution_count": 929,
   "id": "890e0707",
   "metadata": {},
   "outputs": [],
   "source": [
    "apply_log_to_feature(test_data,'age')"
   ]
  },
  {
   "cell_type": "code",
   "execution_count": 930,
   "id": "7de208f3",
   "metadata": {},
   "outputs": [],
   "source": [
    "cate_features = list(test_data.select_dtypes(include='object').columns)\n",
    "for i in cate_features:\n",
    "    test_data[i] = LE.fit_transform(test_data[i])"
   ]
  },
  {
   "cell_type": "code",
   "execution_count": 931,
   "id": "504d7894",
   "metadata": {},
   "outputs": [
    {
     "name": "stdout",
     "output_type": "stream",
     "text": [
      "<class 'pandas.core.frame.DataFrame'>\n",
      "RangeIndex: 54808 entries, 0 to 54807\n",
      "Data columns (total 14 columns):\n",
      " #   Column                Non-Null Count  Dtype  \n",
      "---  ------                --------------  -----  \n",
      " 0   employee_id           54808 non-null  int64  \n",
      " 1   department            54808 non-null  int32  \n",
      " 2   region                54808 non-null  int32  \n",
      " 3   education             54808 non-null  int32  \n",
      " 4   gender                54808 non-null  int64  \n",
      " 5   recruitment_channel   54808 non-null  int32  \n",
      " 6   no_of_trainings       54808 non-null  int64  \n",
      " 7   age                   54808 non-null  float64\n",
      " 8   previous_year_rating  54808 non-null  float64\n",
      " 9   length_of_service     54808 non-null  int64  \n",
      " 10  KPIs_met >80%         54808 non-null  int64  \n",
      " 11  awards_won?           54808 non-null  int64  \n",
      " 12  avg_training_score    54808 non-null  int64  \n",
      " 13  is_promoted           54808 non-null  int64  \n",
      "dtypes: float64(2), int32(4), int64(8)\n",
      "memory usage: 5.0 MB\n"
     ]
    }
   ],
   "source": [
    "data.info()"
   ]
  },
  {
   "cell_type": "code",
   "execution_count": 932,
   "id": "1fcac47b",
   "metadata": {},
   "outputs": [
    {
     "name": "stdout",
     "output_type": "stream",
     "text": [
      "<class 'pandas.core.frame.DataFrame'>\n",
      "Int64Index: 20819 entries, 1 to 23489\n",
      "Data columns (total 13 columns):\n",
      " #   Column                Non-Null Count  Dtype  \n",
      "---  ------                --------------  -----  \n",
      " 0   employee_id           20819 non-null  int64  \n",
      " 1   department            20819 non-null  int32  \n",
      " 2   region                20819 non-null  int32  \n",
      " 3   education             20819 non-null  int32  \n",
      " 4   gender                20819 non-null  int64  \n",
      " 5   recruitment_channel   20819 non-null  int32  \n",
      " 6   no_of_trainings       20819 non-null  int64  \n",
      " 7   age                   20819 non-null  float64\n",
      " 8   previous_year_rating  20819 non-null  float64\n",
      " 9   length_of_service     20819 non-null  int64  \n",
      " 10  KPIs_met >80%         20819 non-null  int64  \n",
      " 11  awards_won?           20819 non-null  int64  \n",
      " 12  avg_training_score    20819 non-null  int64  \n",
      "dtypes: float64(2), int32(4), int64(7)\n",
      "memory usage: 1.9 MB\n"
     ]
    }
   ],
   "source": [
    "test_data.info()"
   ]
  },
  {
   "cell_type": "code",
   "execution_count": 933,
   "id": "0a6f11d7",
   "metadata": {},
   "outputs": [],
   "source": [
    "test_data.drop(columns='employee_id',inplace=True)"
   ]
  },
  {
   "cell_type": "code",
   "execution_count": 934,
   "id": "2f9bb5fc",
   "metadata": {},
   "outputs": [],
   "source": [
    "#scalling test data records with standard scaler\n",
    "ms_test_sc = StandardScaler()\n",
    "test_data = test_data.values\n",
    "test_data = ms_test_sc.fit_transform(test_data)"
   ]
  },
  {
   "cell_type": "code",
   "execution_count": 935,
   "id": "1596ebe4",
   "metadata": {},
   "outputs": [
    {
     "data": {
      "text/plain": [
       "array([[-1.18849603,  1.43479131, -0.68108848, ..., -0.75392599,\n",
       "        -0.15460282, -0.93598885],\n",
       "       [ 0.82109568, -1.30248962, -0.68108848, ..., -0.75392599,\n",
       "        -0.15460282, -1.23710728],\n",
       "       [ 0.01725899, -0.50411601, -0.68108848, ..., -0.75392599,\n",
       "        -0.15460282,  0.11792564],\n",
       "       ...,\n",
       "       [ 1.22301402,  0.18020422, -0.68108848, ..., -0.75392599,\n",
       "        -0.15460282,  0.79544209],\n",
       "       [-1.18849603, -0.9603295 , -0.68108848, ..., -0.75392599,\n",
       "        -0.15460282, -1.01126846],\n",
       "       [ 1.22301402, -0.84627613,  1.48654602, ...,  1.32639014,\n",
       "        -0.15460282,  1.92463619]])"
      ]
     },
     "execution_count": 935,
     "metadata": {},
     "output_type": "execute_result"
    }
   ],
   "source": [
    "test_data"
   ]
  },
  {
   "cell_type": "markdown",
   "id": "6ed6cd6d",
   "metadata": {},
   "source": [
    "### Prediction"
   ]
  },
  {
   "cell_type": "code",
   "execution_count": 936,
   "id": "7e4b3875",
   "metadata": {},
   "outputs": [],
   "source": [
    "y_pred_test = LR.predict(test_data)"
   ]
  },
  {
   "cell_type": "code",
   "execution_count": 937,
   "id": "25b4d4f6",
   "metadata": {},
   "outputs": [
    {
     "data": {
      "text/plain": [
       "array([0, 0, 0, ..., 0, 0, 0], dtype=int64)"
      ]
     },
     "execution_count": 937,
     "metadata": {},
     "output_type": "execute_result"
    }
   ],
   "source": [
    "y_pred_test"
   ]
  },
  {
   "cell_type": "code",
   "execution_count": 938,
   "id": "e245dd0d",
   "metadata": {},
   "outputs": [
    {
     "data": {
      "text/html": [
       "<div>\n",
       "<style scoped>\n",
       "    .dataframe tbody tr th:only-of-type {\n",
       "        vertical-align: middle;\n",
       "    }\n",
       "\n",
       "    .dataframe tbody tr th {\n",
       "        vertical-align: top;\n",
       "    }\n",
       "\n",
       "    .dataframe thead th {\n",
       "        text-align: right;\n",
       "    }\n",
       "</style>\n",
       "<table border=\"1\" class=\"dataframe\">\n",
       "  <thead>\n",
       "    <tr style=\"text-align: right;\">\n",
       "      <th></th>\n",
       "      <th>is_promoted</th>\n",
       "    </tr>\n",
       "  </thead>\n",
       "  <tbody>\n",
       "    <tr>\n",
       "      <th>0</th>\n",
       "      <td>0</td>\n",
       "    </tr>\n",
       "    <tr>\n",
       "      <th>1</th>\n",
       "      <td>0</td>\n",
       "    </tr>\n",
       "    <tr>\n",
       "      <th>2</th>\n",
       "      <td>0</td>\n",
       "    </tr>\n",
       "    <tr>\n",
       "      <th>3</th>\n",
       "      <td>0</td>\n",
       "    </tr>\n",
       "    <tr>\n",
       "      <th>4</th>\n",
       "      <td>0</td>\n",
       "    </tr>\n",
       "    <tr>\n",
       "      <th>...</th>\n",
       "      <td>...</td>\n",
       "    </tr>\n",
       "    <tr>\n",
       "      <th>20814</th>\n",
       "      <td>0</td>\n",
       "    </tr>\n",
       "    <tr>\n",
       "      <th>20815</th>\n",
       "      <td>0</td>\n",
       "    </tr>\n",
       "    <tr>\n",
       "      <th>20816</th>\n",
       "      <td>0</td>\n",
       "    </tr>\n",
       "    <tr>\n",
       "      <th>20817</th>\n",
       "      <td>0</td>\n",
       "    </tr>\n",
       "    <tr>\n",
       "      <th>20818</th>\n",
       "      <td>0</td>\n",
       "    </tr>\n",
       "  </tbody>\n",
       "</table>\n",
       "<p>20819 rows × 1 columns</p>\n",
       "</div>"
      ],
      "text/plain": [
       "       is_promoted\n",
       "0                0\n",
       "1                0\n",
       "2                0\n",
       "3                0\n",
       "4                0\n",
       "...            ...\n",
       "20814            0\n",
       "20815            0\n",
       "20816            0\n",
       "20817            0\n",
       "20818            0\n",
       "\n",
       "[20819 rows x 1 columns]"
      ]
     },
     "execution_count": 938,
     "metadata": {},
     "output_type": "execute_result"
    }
   ],
   "source": [
    "out = pd.DataFrame(y_pred_test)\n",
    "out.columns = ['is_promoted']\n",
    "out"
   ]
  },
  {
   "cell_type": "markdown",
   "id": "765c190e",
   "metadata": {},
   "source": [
    "### Saving the Result"
   ]
  },
  {
   "cell_type": "code",
   "execution_count": 939,
   "id": "f77f5e9d",
   "metadata": {},
   "outputs": [],
   "source": [
    "out.to_csv('Output.csv')"
   ]
  }
 ],
 "metadata": {
  "kernelspec": {
   "display_name": "Python 3 (ipykernel)",
   "language": "python",
   "name": "python3"
  },
  "language_info": {
   "codemirror_mode": {
    "name": "ipython",
    "version": 3
   },
   "file_extension": ".py",
   "mimetype": "text/x-python",
   "name": "python",
   "nbconvert_exporter": "python",
   "pygments_lexer": "ipython3",
   "version": "3.9.12"
  }
 },
 "nbformat": 4,
 "nbformat_minor": 5
}
